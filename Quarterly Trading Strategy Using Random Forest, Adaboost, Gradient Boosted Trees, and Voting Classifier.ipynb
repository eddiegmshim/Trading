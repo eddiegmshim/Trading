{
 "cells": [
  {
   "cell_type": "markdown",
   "metadata": {},
   "source": [
    "## Quarterly Trading Strategy Using Random Forest, Adaboost, Gradient Boosted Trees, and Voting Classifier\n",
    "Final Project <br>\n",
    "Machine Learning in Finance <br>\n",
    "March 14, 2020 <br>\n",
    "Eddie Shim"
   ]
  },
  {
   "cell_type": "markdown",
   "metadata": {},
   "source": [
    "Data is provided by WRDS database and spans quarterly metrics across 2000-01-01 to 2018-12-31 and covers all US equity symbols with greater than $1B market cap (>4000 symbols). Total dataset size is about 110k rows and 700 columns (~600KB). <br>\n",
    "Our goal is to create a trading strategy that takes a look at >700 features per company per quarter and predict which set of equities we should buy and sell in the upcoming quarter. Feature description is detailed in Key to Abbreviations.pdf<br>\n",
    "<br>\n",
    "The notebook will detail comparisons of Random Forest, Adaboost, and GBM. Hyperparams are calibrated using GridSearchCV and feature set is derived from a pre-cached set of optimal features.\n",
    "<br>\n",
    "Key evaluation metrics per strategy/model include alpha, information ratio, sharpe ratio, maximum drawdown, and comparisons of relative profit performance benchmarked against SPY."
   ]
  },
  {
   "cell_type": "code",
   "execution_count": 2,
   "metadata": {
    "ExecuteTime": {
     "end_time": "2019-05-23T01:05:09.624302Z",
     "start_time": "2019-05-23T01:05:09.617355Z"
    }
   },
   "outputs": [],
   "source": [
    "import pandas as pd\n",
    "import numpy as np\n",
    "import matplotlib.pyplot as plt\n",
    "%matplotlib inline\n",
    "from sklearn.metrics import accuracy_score, confusion_matrix\n",
    "from sklearn.tree import DecisionTreeClassifier\n",
    "from sklearn.ensemble import BaggingClassifier, RandomForestClassifier, AdaBoostClassifier, VotingClassifier\n",
    "import lightgbm as lgb\n",
    "pd.set_option('use_inf_as_na', True)\n",
    "from collections import Counter\n",
    "import pickle\n",
    "from hypopt import GridSearch\n",
    "from sklearn.model_selection import GridSearchCV"
   ]
  },
  {
   "cell_type": "code",
   "execution_count": 3,
   "metadata": {
    "ExecuteTime": {
     "end_time": "2019-05-23T01:05:27.025870Z",
     "start_time": "2019-05-23T01:05:25.605556Z"
    }
   },
   "outputs": [
    {
     "name": "stderr",
     "output_type": "stream",
     "text": [
      "C:\\Users\\eddie\\Anaconda3\\lib\\site-packages\\pandas\\core\\frame.py:4034: SettingWithCopyWarning: \n",
      "A value is trying to be set on a copy of a slice from a DataFrame\n",
      "\n",
      "See the caveats in the documentation: http://pandas.pydata.org/pandas-docs/stable/indexing.html#indexing-view-versus-copy\n",
      "  downcast=downcast, **kwargs)\n"
     ]
    }
   ],
   "source": [
    "raw_data = pd.read_pickle(r'C:\\Users\\eddie\\Documents\\MSCS\\Machine Learning\\week1\\dataset.pkl')\n",
    "data = raw_data[raw_data['market_cap'] > 1000.0]\n",
    "data.fillna(0.0,inplace=True)"
   ]
  },
  {
   "cell_type": "code",
   "execution_count": 4,
   "metadata": {
    "ExecuteTime": {
     "end_time": "2019-05-23T01:05:28.587691Z",
     "start_time": "2019-05-23T01:05:28.583701Z"
    }
   },
   "outputs": [],
   "source": [
    "#defining our dependent variable, a categorical value for whether stock outperformed or underperformed SPY by over 1%\n",
    "def relative_performance_transform(x):\n",
    "    if x > 0.01:\n",
    "        return 1\n",
    "    elif x < -0.01:\n",
    "        return -1\n",
    "    else:    \n",
    "        return 0"
   ]
  },
  {
   "cell_type": "code",
   "execution_count": 5,
   "metadata": {
    "ExecuteTime": {
     "end_time": "2019-05-23T01:05:31.154825Z",
     "start_time": "2019-05-23T01:05:30.830693Z"
    }
   },
   "outputs": [
    {
     "name": "stderr",
     "output_type": "stream",
     "text": [
      "C:\\Users\\eddie\\Anaconda3\\lib\\site-packages\\ipykernel_launcher.py:1: SettingWithCopyWarning: \n",
      "A value is trying to be set on a copy of a slice from a DataFrame.\n",
      "Try using .loc[row_indexer,col_indexer] = value instead\n",
      "\n",
      "See the caveats in the documentation: http://pandas.pydata.org/pandas-docs/stable/indexing.html#indexing-view-versus-copy\n",
      "  \"\"\"Entry point for launching an IPython kernel.\n"
     ]
    }
   ],
   "source": [
    "data['rel_performance'] = data['pred_rel_return'].apply(relative_performance_transform)\n",
    "data.reset_index(inplace=True,)\n",
    "data.set_index('date',inplace=True)"
   ]
  },
  {
   "cell_type": "code",
   "execution_count": 6,
   "metadata": {},
   "outputs": [
    {
     "name": "stdout",
     "output_type": "stream",
     "text": [
      "Data frame shape: (111468, 733)\n",
      "Number of unique symbols: ticker    4076\n",
      "dtype: int64\n"
     ]
    },
    {
     "data": {
      "text/html": [
       "<div>\n",
       "<style scoped>\n",
       "    .dataframe tbody tr th:only-of-type {\n",
       "        vertical-align: middle;\n",
       "    }\n",
       "\n",
       "    .dataframe tbody tr th {\n",
       "        vertical-align: top;\n",
       "    }\n",
       "\n",
       "    .dataframe thead th {\n",
       "        text-align: right;\n",
       "    }\n",
       "</style>\n",
       "<table border=\"1\" class=\"dataframe\">\n",
       "  <thead>\n",
       "    <tr style=\"text-align: right;\">\n",
       "      <th></th>\n",
       "      <th>ticker</th>\n",
       "      <th>actq</th>\n",
       "      <th>apq</th>\n",
       "      <th>atq</th>\n",
       "      <th>ceqq</th>\n",
       "      <th>cheq</th>\n",
       "      <th>cogsq</th>\n",
       "      <th>csh12q</th>\n",
       "      <th>cshfdq</th>\n",
       "      <th>cshiq</th>\n",
       "      <th>...</th>\n",
       "      <th>sector_code_817.0</th>\n",
       "      <th>sector_code_822.0</th>\n",
       "      <th>sector_code_823.0</th>\n",
       "      <th>sector_code_825.0</th>\n",
       "      <th>sector_code_830.0</th>\n",
       "      <th>sector_code_835.0</th>\n",
       "      <th>sector_code_840.0</th>\n",
       "      <th>sector_code_845.0</th>\n",
       "      <th>sector_code_850.0</th>\n",
       "      <th>rel_performance</th>\n",
       "    </tr>\n",
       "    <tr>\n",
       "      <th>date</th>\n",
       "      <th></th>\n",
       "      <th></th>\n",
       "      <th></th>\n",
       "      <th></th>\n",
       "      <th></th>\n",
       "      <th></th>\n",
       "      <th></th>\n",
       "      <th></th>\n",
       "      <th></th>\n",
       "      <th></th>\n",
       "      <th></th>\n",
       "      <th></th>\n",
       "      <th></th>\n",
       "      <th></th>\n",
       "      <th></th>\n",
       "      <th></th>\n",
       "      <th></th>\n",
       "      <th></th>\n",
       "      <th></th>\n",
       "      <th></th>\n",
       "      <th></th>\n",
       "    </tr>\n",
       "  </thead>\n",
       "  <tbody>\n",
       "    <tr>\n",
       "      <th>2000-02-09</th>\n",
       "      <td>CSCO</td>\n",
       "      <td>7722.000</td>\n",
       "      <td>482.000</td>\n",
       "      <td>21391.000</td>\n",
       "      <td>16523.000</td>\n",
       "      <td>3968.000</td>\n",
       "      <td>1422.000</td>\n",
       "      <td>3374.1250</td>\n",
       "      <td>3648.000</td>\n",
       "      <td>3445.000</td>\n",
       "      <td>...</td>\n",
       "      <td>0</td>\n",
       "      <td>0</td>\n",
       "      <td>0</td>\n",
       "      <td>0</td>\n",
       "      <td>0</td>\n",
       "      <td>0</td>\n",
       "      <td>0</td>\n",
       "      <td>0</td>\n",
       "      <td>0</td>\n",
       "      <td>-1</td>\n",
       "    </tr>\n",
       "    <tr>\n",
       "      <th>2000-02-09</th>\n",
       "      <td>ROP</td>\n",
       "      <td>172.725</td>\n",
       "      <td>19.662</td>\n",
       "      <td>474.649</td>\n",
       "      <td>239.432</td>\n",
       "      <td>3.198</td>\n",
       "      <td>47.634</td>\n",
       "      <td>30.2688</td>\n",
       "      <td>31.217</td>\n",
       "      <td>0.000</td>\n",
       "      <td>...</td>\n",
       "      <td>0</td>\n",
       "      <td>0</td>\n",
       "      <td>0</td>\n",
       "      <td>0</td>\n",
       "      <td>0</td>\n",
       "      <td>0</td>\n",
       "      <td>0</td>\n",
       "      <td>0</td>\n",
       "      <td>0</td>\n",
       "      <td>1</td>\n",
       "    </tr>\n",
       "    <tr>\n",
       "      <th>2000-02-10</th>\n",
       "      <td>CMOS</td>\n",
       "      <td>240.767</td>\n",
       "      <td>27.044</td>\n",
       "      <td>376.536</td>\n",
       "      <td>209.411</td>\n",
       "      <td>68.625</td>\n",
       "      <td>43.023</td>\n",
       "      <td>21.4360</td>\n",
       "      <td>23.753</td>\n",
       "      <td>0.000</td>\n",
       "      <td>...</td>\n",
       "      <td>0</td>\n",
       "      <td>0</td>\n",
       "      <td>0</td>\n",
       "      <td>0</td>\n",
       "      <td>0</td>\n",
       "      <td>0</td>\n",
       "      <td>0</td>\n",
       "      <td>0</td>\n",
       "      <td>0</td>\n",
       "      <td>1</td>\n",
       "    </tr>\n",
       "    <tr>\n",
       "      <th>2000-02-11</th>\n",
       "      <td>DELL</td>\n",
       "      <td>7681.000</td>\n",
       "      <td>3538.000</td>\n",
       "      <td>11471.000</td>\n",
       "      <td>5308.000</td>\n",
       "      <td>4132.000</td>\n",
       "      <td>5452.000</td>\n",
       "      <td>2536.0000</td>\n",
       "      <td>2731.000</td>\n",
       "      <td>2575.000</td>\n",
       "      <td>...</td>\n",
       "      <td>0</td>\n",
       "      <td>0</td>\n",
       "      <td>0</td>\n",
       "      <td>0</td>\n",
       "      <td>0</td>\n",
       "      <td>0</td>\n",
       "      <td>0</td>\n",
       "      <td>0</td>\n",
       "      <td>0</td>\n",
       "      <td>1</td>\n",
       "    </tr>\n",
       "    <tr>\n",
       "      <th>2000-02-15</th>\n",
       "      <td>VAL</td>\n",
       "      <td>507.082</td>\n",
       "      <td>139.497</td>\n",
       "      <td>1094.080</td>\n",
       "      <td>402.382</td>\n",
       "      <td>27.605</td>\n",
       "      <td>221.366</td>\n",
       "      <td>43.1858</td>\n",
       "      <td>43.687</td>\n",
       "      <td>53.321</td>\n",
       "      <td>...</td>\n",
       "      <td>0</td>\n",
       "      <td>0</td>\n",
       "      <td>0</td>\n",
       "      <td>0</td>\n",
       "      <td>0</td>\n",
       "      <td>0</td>\n",
       "      <td>0</td>\n",
       "      <td>0</td>\n",
       "      <td>0</td>\n",
       "      <td>1</td>\n",
       "    </tr>\n",
       "  </tbody>\n",
       "</table>\n",
       "<p>5 rows × 733 columns</p>\n",
       "</div>"
      ],
      "text/plain": [
       "           ticker      actq       apq        atq       ceqq      cheq  \\\n",
       "date                                                                    \n",
       "2000-02-09   CSCO  7722.000   482.000  21391.000  16523.000  3968.000   \n",
       "2000-02-09    ROP   172.725    19.662    474.649    239.432     3.198   \n",
       "2000-02-10   CMOS   240.767    27.044    376.536    209.411    68.625   \n",
       "2000-02-11   DELL  7681.000  3538.000  11471.000   5308.000  4132.000   \n",
       "2000-02-15    VAL   507.082   139.497   1094.080    402.382    27.605   \n",
       "\n",
       "               cogsq     csh12q    cshfdq     cshiq  ...  sector_code_817.0  \\\n",
       "date                                                 ...                      \n",
       "2000-02-09  1422.000  3374.1250  3648.000  3445.000  ...                  0   \n",
       "2000-02-09    47.634    30.2688    31.217     0.000  ...                  0   \n",
       "2000-02-10    43.023    21.4360    23.753     0.000  ...                  0   \n",
       "2000-02-11  5452.000  2536.0000  2731.000  2575.000  ...                  0   \n",
       "2000-02-15   221.366    43.1858    43.687    53.321  ...                  0   \n",
       "\n",
       "            sector_code_822.0  sector_code_823.0  sector_code_825.0  \\\n",
       "date                                                                  \n",
       "2000-02-09                  0                  0                  0   \n",
       "2000-02-09                  0                  0                  0   \n",
       "2000-02-10                  0                  0                  0   \n",
       "2000-02-11                  0                  0                  0   \n",
       "2000-02-15                  0                  0                  0   \n",
       "\n",
       "            sector_code_830.0  sector_code_835.0  sector_code_840.0  \\\n",
       "date                                                                  \n",
       "2000-02-09                  0                  0                  0   \n",
       "2000-02-09                  0                  0                  0   \n",
       "2000-02-10                  0                  0                  0   \n",
       "2000-02-11                  0                  0                  0   \n",
       "2000-02-15                  0                  0                  0   \n",
       "\n",
       "            sector_code_845.0  sector_code_850.0  rel_performance  \n",
       "date                                                               \n",
       "2000-02-09                  0                  0               -1  \n",
       "2000-02-09                  0                  0                1  \n",
       "2000-02-10                  0                  0                1  \n",
       "2000-02-11                  0                  0                1  \n",
       "2000-02-15                  0                  0                1  \n",
       "\n",
       "[5 rows x 733 columns]"
      ]
     },
     "execution_count": 6,
     "metadata": {},
     "output_type": "execute_result"
    }
   ],
   "source": [
    "#data descriptive stats\n",
    "print(\"Data frame shape:\", data.shape)\n",
    "print(\"Number of unique symbols:\", data[['ticker']].nunique())\n",
    "data.head()"
   ]
  },
  {
   "cell_type": "markdown",
   "metadata": {},
   "source": [
    "From the nine optimal features files:<br>\n",
    "    &emsp; 1.ada opt feat 4.pkl<br>\n",
    "    &emsp; 2.ada opt feat 5.pkl<br>\n",
    "    &emsp; 3.ada opt feat 6.pkl<br>\n",
    "    &emsp; 4.gb opt feat 1.pkl<br>\n",
    "    &emsp; 5.gb opt feat 2.pkl<br>\n",
    "    &emsp; 6.gb opt feat 3.pkl<br>\n",
    "    &emsp; 7.opt feat 4.pkl<br>\n",
    "    &emsp; 8.opt feat 5.pkl<br>\n",
    "    &emsp; 9.opt feat 6.pkl<br>\n",
    "Each of these files contain a list of lists of optimal features for various classifiers.<br>\n",
    "Compute the frequency for each feature which occurs as an optimal feature in the totality<br>\n",
    "of these files."
   ]
  },
  {
   "cell_type": "code",
   "execution_count": 8,
   "metadata": {},
   "outputs": [],
   "source": [
    "#Load in cached optimal feature sets \n",
    "with open(r'C:\\Users\\eddie\\Documents\\MSCS\\Machine Learning\\week5\\hw3\\ada_opt_feat_4.pkl','rb') as f:\n",
    "    ada_opt_feat4 = pickle.load(f)\n",
    "with open(r'C:\\Users\\eddie\\Documents\\MSCS\\Machine Learning\\week5\\hw3\\ada_opt_feat_5.pkl','rb') as f:\n",
    "    ada_opt_feat5 = pickle.load(f)\n",
    "with open(r'C:\\Users\\eddie\\Documents\\MSCS\\Machine Learning\\week5\\hw3\\ada_opt_feat_6.pkl','rb') as f:\n",
    "    ada_opt_feat6 = pickle.load(f)\n",
    "with open(r'C:\\Users\\eddie\\Documents\\MSCS\\Machine Learning\\week7\\gb_opt_feat_1.pkl','rb') as f:\n",
    "    gb_opt_feat1 = pickle.load(f)\n",
    "with open(r'C:\\Users\\eddie\\Documents\\MSCS\\Machine Learning\\week7\\gb_opt_feat_2.pkl','rb') as f:\n",
    "    gb_opt_feat2 = pickle.load(f)\n",
    "with open(r'C:\\Users\\eddie\\Documents\\MSCS\\Machine Learning\\week7\\gb_opt_feat_3.pkl','rb') as f:\n",
    "    gb_opt_feat3 = pickle.load(f)\n",
    "with open(r'C:\\Users\\eddie\\Documents\\MSCS\\Machine Learning\\week5\\hw3\\opt_feat_4.pkl','rb') as f:\n",
    "    opt_feat4 = pickle.load(f)\n",
    "with open(r'C:\\Users\\eddie\\Documents\\MSCS\\Machine Learning\\week5\\hw3\\opt_feat_4.pkl','rb') as f:\n",
    "    opt_feat5 = pickle.load(f)\n",
    "with open(r'C:\\Users\\eddie\\Documents\\MSCS\\Machine Learning\\week5\\hw3\\opt_feat_4.pkl','rb') as f:\n",
    "    opt_feat6 = pickle.load(f)"
   ]
  },
  {
   "cell_type": "code",
   "execution_count": 9,
   "metadata": {},
   "outputs": [
    {
     "name": "stdout",
     "output_type": "stream",
     "text": [
      "['fcf_yield', 'evmq', 'cf_yield', 'oancfy_q', 'fcf_csfhdq', 'chechy', 'capeiq', 'lt_ppentq', 'xsgay', 'fcf_ocfq']\n"
     ]
    }
   ],
   "source": [
    "#Compute frequency for each feature which occurs as optimal feature and grab top 10\n",
    "frequency_table = Counter()\n",
    "feature_sets = [ada_opt_feat4, ada_opt_feat5, ada_opt_feat6, gb_opt_feat1, gb_opt_feat2, gb_opt_feat3, opt_feat4, opt_feat5, opt_feat6]\n",
    "for fset in feature_sets:\n",
    "    for fset_subset in fset:\n",
    "        frequency_table += Counter(fset_subset)\n",
    "top10features = [ft for ft, count in frequency_table.most_common(10)]\n",
    "print(top10features)"
   ]
  },
  {
   "cell_type": "markdown",
   "metadata": {},
   "source": [
    "From our results above, here are the top 10 features we'll be proceeding with for the rest of our models:\n",
    "1. fcf_yield: free cash flow yield\n",
    "2. evmq: enterprise value quarterly\n",
    "3. cf_yield: cash flow yield\n",
    "4. oancfy_q: operating expenses - net cash flow\n",
    "5. fcf_csfhdq: free cash flow \n",
    "6. chechy: cash and cash equivalents\n",
    "7. capeiq: capital investment quarterly\n",
    "8. lt_ppentq: long percentage point enterprise quarterly\n",
    "9. xsgay: selling, general and administrative expensives\n",
    "10. fcf_ocfq: free cash flow operations cash flow quarterly"
   ]
  },
  {
   "cell_type": "markdown",
   "metadata": {},
   "source": [
    "Pick a set of 10 features with the highest frequencies and run several back tests with <br>\n",
    "different sets of hyper parameters, using this set of 10 features through the whole period <br>\n",
    "(so we do not change features each quarter) for each of the three classifiers below. Find<br>\n",
    "the hyper parameters for each classifier from these experiments that give the best Sharpe<br>\n",
    "Ratio<br>\n",
    "&emsp;-A Random Forest Classifier<br>\n",
    "&emsp;-An AdaBoosting Classifier<br>\n",
    "&emsp;-A Gradient Boosting Classifier<br>"
   ]
  },
  {
   "cell_type": "code",
   "execution_count": 10,
   "metadata": {
    "ExecuteTime": {
     "end_time": "2019-05-23T01:05:37.878839Z",
     "start_time": "2019-05-23T01:05:34.692391Z"
    }
   },
   "outputs": [],
   "source": [
    "#Split our training and test dataframes \n",
    "start_dates = [pd.to_datetime('2000-01-01') + pd.DateOffset(months = 3 * i) for i in range(62)]\n",
    "end_dates = [d + pd.DateOffset(months = 36) for d in start_dates]\n",
    "\n",
    "training_frames = [data.loc[d:d+pd.DateOffset(months = 36)] for d in start_dates]\n",
    "test_frames = [data.loc[d + pd.DateOffset(months=3):d+pd.DateOffset(months = 6)] for d in end_dates]\n",
    "\n",
    "training_data_full = [d for d in training_frames]\n",
    "\n",
    "training_data = [d.reset_index().drop\n",
    "                                 (['ticker','date',\n",
    "                                   'next_period_return',\n",
    "                                   'spy_next_period_return',\n",
    "                                   'rel_performance','pred_rel_return',\n",
    "                                  'return', 'cum_ret', 'spy_cum_ret'],axis=1) for d in training_frames]\n",
    "\n",
    "test_data = [d.reset_index().drop(['ticker','date',\n",
    "                                   'next_period_return',\n",
    "                                   'spy_next_period_return',\n",
    "                                   'rel_performance','pred_rel_return',\n",
    "                                  'return', 'cum_ret', 'spy_cum_ret'],axis=1) for d in test_frames]\n",
    "\n",
    "training_labels = [d['rel_performance'].values for d in training_frames]\n",
    "validation_labels = [d['rel_performance'].values for d in test_frames]"
   ]
  },
  {
   "cell_type": "code",
   "execution_count": 14,
   "metadata": {},
   "outputs": [],
   "source": [
    "#Using first three years as separate training dataset to feed into our hyperparam gridsearch\n",
    "df_hyperparam_train = data.loc['2010-01-01':'2013-01-01']\n",
    "input_data_hyperparam = df_hyperparam_train.reset_index().drop(['ticker','date',\n",
    "                                   'next_period_return',\n",
    "                                   'spy_next_period_return',\n",
    "                                   'rel_performance','pred_rel_return',\n",
    "                                  'return', 'cum_ret', 'spy_cum_ret'],axis=1)\n",
    "label_data_hyperparam = df_hyperparam_train['rel_performance'].values"
   ]
  },
  {
   "cell_type": "code",
   "execution_count": 15,
   "metadata": {},
   "outputs": [],
   "source": [
    "#Load in SPY data as benchmark measure and for Sharpe Ratio calculation\n",
    "SPY = pd.read_pickle(r'C:\\Users\\eddie\\Documents\\MSCS\\Machine Learning\\week2\\SPY_cum_ret.pkl')\n",
    "SPY = SPY.loc['2003-10-01':]\n",
    "SPY = SPY.resample('Q').ffill()\n",
    "SPY['spy_cum_ret'] = (SPY['spy_cum_ret'] - SPY['spy_cum_ret'][0] + 1)"
   ]
  },
  {
   "cell_type": "markdown",
   "metadata": {},
   "source": [
    "# Trading Strategy Style 1"
   ]
  },
  {
   "cell_type": "markdown",
   "metadata": {},
   "source": [
    "Compute the total P/L for the strategy where for each quarter we allocate our capital\n",
    "equally between the stocks we consider in the quarter, the stocks that are available will\n",
    "vary from quarter to quarter. We go long each stock with prediction +1, and short each\n",
    "stock with prediction -1 (and do nothing if the prediction is 0) and hold until the day after\n",
    "the next earnings release. We start with $1. Compute SR, IR, alpha, max drawdown(on an annual basis)."
   ]
  },
  {
   "cell_type": "code",
   "execution_count": 16,
   "metadata": {},
   "outputs": [],
   "source": [
    "def calc_strategy_returns_style1(training_data, training_labels, test_frames, test_data, top10features, model_with_hyper_params):\n",
    "    P_L = []\n",
    "    strategy_returns = [0,1]\n",
    "    ret = []\n",
    "\n",
    "    for i in range(1,len(training_data)-1):\n",
    "            model_with_hyper_params.fit(training_data[i][top10features],training_labels[i])\n",
    "            pred_i = model_with_hyper_params.predict(test_data[i][top10features])                \n",
    "\n",
    "            profit_i = (pred_i * test_frames[i]['next_period_return']).sum()\n",
    "            P_L.append(profit_i)\n",
    "            positions = np.sum(np.abs(pred_i))\n",
    "\n",
    "            ret.append((1.0/positions) * profit_i)\n",
    "            strategy_returns.append(strategy_returns[i] + (strategy_returns[i]/positions) * profit_i)\n",
    "    strategy_returns = strategy_returns[1:]\n",
    "    return(strategy_returns)"
   ]
  },
  {
   "cell_type": "markdown",
   "metadata": {},
   "source": [
    "# Trading Strategy Style 2"
   ]
  },
  {
   "cell_type": "markdown",
   "metadata": {},
   "source": [
    "Consider the strategy where we buy the stock and short the SPY if the prediction is +1\n",
    "and do the opposite if the prediction is -1, with the same allocation to each trade as above\n",
    "and same holding period.\n",
    "Compute total P/L for this strategy.\n",
    "Compute SR, IR, alpha, MaxDrawdown (on an annual basis)."
   ]
  },
  {
   "cell_type": "code",
   "execution_count": 17,
   "metadata": {},
   "outputs": [],
   "source": [
    "def calc_strategy_returns_style2(training_data, training_labels, test_frames, test_data, top10features, model_with_hyper_params):\n",
    "    P_L = []\n",
    "    strategy_returns = [0,1]\n",
    "    ret = []\n",
    "\n",
    "    for i in range(1,len(training_data)-1):\n",
    "            model_with_hyper_params.fit(training_data[i][top10features],training_labels[i])\n",
    "            pred_i = model_with_hyper_params.predict(test_data[i][top10features])  \n",
    "            \n",
    "            spy_next_period_ret = training_data_full[i]['spy_next_period_return']\n",
    "            \n",
    "            profit_i = 0\n",
    "            for p_index in range(0,len(pred_i)):\n",
    "                p = pred_i[p_index]\n",
    "                profit_i_stock = test_frames[i]['next_period_return'][p_index]\n",
    "                profit_i_spy = test_frames[i]['spy_next_period_return'][p_index]\n",
    "                \n",
    "                if(p > 0): #buy the stock and short the SPY\n",
    "                    profit_i = profit_i + profit_i_stock - profit_i_spy\n",
    "                elif(p < 0): #short the stock and buy the SPY\n",
    "                    profit_i = profit_i - profit_i_stock + profit_i_spy\n",
    "\n",
    "            P_L.append(profit_i)\n",
    "            positions = np.sum(np.abs(pred_i))\n",
    "\n",
    "            ret.append((1.0/positions) * profit_i)\n",
    "            strategy_returns.append(strategy_returns[i] + (strategy_returns[i]/positions) * profit_i)\n",
    "    strategy_returns = strategy_returns[1:]\n",
    "    return(strategy_returns)"
   ]
  },
  {
   "cell_type": "code",
   "execution_count": 18,
   "metadata": {},
   "outputs": [],
   "source": [
    "def calc_max_drawdown(returns):\n",
    "    i = np.argmax(np.maximum.accumulate(returns) - returns)\n",
    "    j = np.argmax(returns[:i])\n",
    "    return np.abs(returns[j] - returns[i])"
   ]
  },
  {
   "cell_type": "code",
   "execution_count": 19,
   "metadata": {},
   "outputs": [],
   "source": [
    "def calc_sharpe_ratio(returns_spy_strategy):\n",
    "    strategy_mean_ret = (returns_spy_strategy.iloc[:,1] - 1).diff().mean()\n",
    "    strategy_std = (returns_spy_strategy.iloc[:,1] - 1).diff().std()\n",
    "    strategy_sr = strategy_mean_ret/strategy_std\n",
    "    return(strategy_sr)"
   ]
  },
  {
   "cell_type": "code",
   "execution_count": 20,
   "metadata": {},
   "outputs": [],
   "source": [
    "def calc_beta(strategy_returns, spy_returns):\n",
    "    beta = (np.cov(spy_returns,strategy_returns)/np.var(spy_returns))[1,0]\n",
    "    return(beta)"
   ]
  },
  {
   "cell_type": "code",
   "execution_count": 21,
   "metadata": {},
   "outputs": [],
   "source": [
    "def calc_information_ratio(strategy_returns, spy_returns):\n",
    "    beta = calc_beta(strategy_returns, spy_returns)\n",
    "    residual_ret = strategy_returns - beta * spy_returns\n",
    "    IR = np.mean(residual_ret)/np.std(residual_ret)\n",
    "    return(IR)"
   ]
  },
  {
   "cell_type": "code",
   "execution_count": 22,
   "metadata": {},
   "outputs": [],
   "source": [
    "def calc_alpha(strategy_returns, spy_returns):\n",
    "    beta = calc_beta(strategy_returns, spy_returns)\n",
    "    residual_ret = strategy_returns - beta * spy_returns\n",
    "    alpha = np.mean(residual_ret)\n",
    "    return(alpha)"
   ]
  },
  {
   "cell_type": "code",
   "execution_count": 125,
   "metadata": {},
   "outputs": [],
   "source": [
    "results = pd.DataFrame(columns = [\"model_type\", \"hyper_parameters\", \"max_drawdown\", \n",
    "                                  \"sharpe_ratio\", \"alpha\", \"information_ratio\", \"returns_sd\"])"
   ]
  },
  {
   "cell_type": "code",
   "execution_count": 126,
   "metadata": {},
   "outputs": [],
   "source": [
    "results_graph_data = pd.DataFrame(columns = [\"SPY\", \n",
    "                                             \"RandomForest_Strat1\", \"RandomForest_Strat2\", \n",
    "                                             \"AdaBoost_Strat1\",\"AdaBoost_Strat2\",\n",
    "                                             \"GB_Strat1\",\"GB_Strat2\",\n",
    "                                             \"Voting_Strat1\", \"Voting_Strat2\"])\n",
    "results_graph_data[\"SPY\"] = SPY[\"spy_cum_ret\"]"
   ]
  },
  {
   "cell_type": "markdown",
   "metadata": {},
   "source": [
    "# Random Forest Classifier"
   ]
  },
  {
   "cell_type": "code",
   "execution_count": 55,
   "metadata": {},
   "outputs": [],
   "source": [
    "#Use GridSearchCV in order to find our best hyperparam set\n",
    "param_grid_rf = [\n",
    "  {'n_estimators': [10,100], \n",
    "   'max_features': [.2,.6],\n",
    "   'min_samples_leaf':[2000,5000],\n",
    "   'max_depth':[5,20,100]}    \n",
    " ]"
   ]
  },
  {
   "cell_type": "code",
   "execution_count": 56,
   "metadata": {},
   "outputs": [
    {
     "data": {
      "text/plain": [
       "GridSearchCV(cv=3, error_score='raise-deprecating',\n",
       "             estimator=RandomForestClassifier(bootstrap=True, class_weight=None,\n",
       "                                              criterion='gini', max_depth=None,\n",
       "                                              max_features='auto',\n",
       "                                              max_leaf_nodes=None,\n",
       "                                              min_impurity_decrease=0.0,\n",
       "                                              min_impurity_split=None,\n",
       "                                              min_samples_leaf=1,\n",
       "                                              min_samples_split=2,\n",
       "                                              min_weight_fraction_leaf=0.0,\n",
       "                                              n_estimators='warn', n_jobs=None,\n",
       "                                              oob_score=False,\n",
       "                                              random_state=None, verbose=0,\n",
       "                                              warm_start=False),\n",
       "             iid='warn', n_jobs=None,\n",
       "             param_grid=[{'max_depth': [5, 20, 100], 'max_features': [0.2, 0.6],\n",
       "                          'min_samples_leaf': [2000, 5000],\n",
       "                          'n_estimators': [10, 100]}],\n",
       "             pre_dispatch='2*n_jobs', refit=True, return_train_score=False,\n",
       "             scoring=None, verbose=0)"
      ]
     },
     "execution_count": 56,
     "metadata": {},
     "output_type": "execute_result"
    }
   ],
   "source": [
    "rf_clf = RandomForestClassifier()\n",
    "search_rf = GridSearchCV(cv=3,\n",
    "                estimator = rf_clf, \n",
    "                param_grid = param_grid_rf)\n",
    "search_rf.fit(input_data_hyperparam[top10features], label_data_hyperparam)"
   ]
  },
  {
   "cell_type": "code",
   "execution_count": 57,
   "metadata": {},
   "outputs": [
    {
     "data": {
      "text/plain": [
       "{'max_depth': 20,\n",
       " 'max_features': 0.2,\n",
       " 'min_samples_leaf': 2000,\n",
       " 'n_estimators': 100}"
      ]
     },
     "execution_count": 57,
     "metadata": {},
     "output_type": "execute_result"
    }
   ],
   "source": [
    "search_rf.best_params_"
   ]
  },
  {
   "cell_type": "code",
   "execution_count": 58,
   "metadata": {},
   "outputs": [
    {
     "data": {
      "text/plain": [
       "RandomForestClassifier(bootstrap=True, class_weight=None, criterion='gini',\n",
       "                       max_depth=20, max_features=0.2, max_leaf_nodes=None,\n",
       "                       min_impurity_decrease=0.0, min_impurity_split=None,\n",
       "                       min_samples_leaf=2000, min_samples_split=2,\n",
       "                       min_weight_fraction_leaf=0.0, n_estimators=100,\n",
       "                       n_jobs=None, oob_score=False, random_state=None,\n",
       "                       verbose=0, warm_start=False)"
      ]
     },
     "execution_count": 58,
     "metadata": {},
     "output_type": "execute_result"
    }
   ],
   "source": [
    "rf_clf.set_params(**search_rf.best_params_)"
   ]
  },
  {
   "cell_type": "code",
   "execution_count": 59,
   "metadata": {},
   "outputs": [],
   "source": [
    "strategy_returns_rf1 = calc_strategy_returns_style1(training_data, training_labels, test_frames, test_data, top10features, rf_clf)\n",
    "strategy_returns_rf2 = calc_strategy_returns_style2(training_data, training_labels, test_frames, test_data, top10features, rf_clf)"
   ]
  },
  {
   "cell_type": "code",
   "execution_count": 127,
   "metadata": {},
   "outputs": [],
   "source": [
    "returns_spy_strategy_rf = SPY.copy()"
   ]
  },
  {
   "cell_type": "code",
   "execution_count": 128,
   "metadata": {},
   "outputs": [],
   "source": [
    "returns_spy_strategy_rf['strategy1'] = strategy_returns_rf1\n",
    "returns_spy_strategy_rf['strategy2'] = strategy_returns_rf2\n",
    "results_graph_data['RandomForest_Strat1'] = strategy_returns_rf1\n",
    "results_graph_data['RandomForest_Strat2'] = strategy_returns_rf2"
   ]
  },
  {
   "cell_type": "code",
   "execution_count": 129,
   "metadata": {},
   "outputs": [
    {
     "name": "stdout",
     "output_type": "stream",
     "text": [
      "            spy_cum_ret  strategy1  strategy2\n",
      "date                                         \n",
      "2003-12-31     1.000000   1.000000   1.000000\n",
      "2004-12-31     1.107865   1.190186   1.055796\n",
      "2005-12-31     1.160316   1.522921   1.176728\n",
      "2006-12-31     1.312439   1.663719   1.211752\n",
      "2007-12-31     1.375107   2.028168   1.251139\n",
      "2008-12-31     1.001322   1.849084   1.292379\n",
      "2009-12-31     1.270714   1.621277   1.394861\n",
      "2010-12-31     1.427042   2.014411   1.524981\n",
      "2011-12-31     1.472251   2.361503   1.557879\n",
      "2012-12-31     1.628635   2.598567   1.486738\n",
      "2013-12-31     1.914856   3.356594   1.579921\n",
      "2014-12-31     2.047496   3.722409   1.577883\n",
      "2015-12-31     2.071800   3.990455   1.678477\n",
      "2016-12-31     2.193680   3.839377   1.647199\n",
      "2017-12-31     2.392402   4.120909   1.675078\n",
      "2018-12-31     2.360201   4.374602   1.693795\n"
     ]
    }
   ],
   "source": [
    "#annualize results\n",
    "returns_spy_strategy_rf = returns_spy_strategy_rf.resample('A').bfill()\n",
    "print(returns_spy_strategy_rf)"
   ]
  },
  {
   "cell_type": "code",
   "execution_count": 130,
   "metadata": {},
   "outputs": [],
   "source": [
    "rf_returns_sd1 = np.std(returns_spy_strategy_rf['strategy1'])\n",
    "rf_returns_sd2 = np.std(returns_spy_strategy_rf['strategy2'])"
   ]
  },
  {
   "cell_type": "code",
   "execution_count": 131,
   "metadata": {},
   "outputs": [],
   "source": [
    "max_dd_rf1 = calc_max_drawdown(returns_spy_strategy_rf['strategy1'])\n",
    "max_dd_rf2 = calc_max_drawdown(returns_spy_strategy_rf['strategy2'])"
   ]
  },
  {
   "cell_type": "code",
   "execution_count": 132,
   "metadata": {},
   "outputs": [],
   "source": [
    "sharpe_ratio_rf1 = calc_sharpe_ratio(returns_spy_strategy_rf[['spy_cum_ret', 'strategy1']])\n",
    "sharpe_ratio_rf2 = calc_sharpe_ratio(returns_spy_strategy_rf[['spy_cum_ret', 'strategy2']])"
   ]
  },
  {
   "cell_type": "code",
   "execution_count": 133,
   "metadata": {},
   "outputs": [],
   "source": [
    "strategy_ret_normalized_rf1 = (returns_spy_strategy_rf['strategy1'] - 1).diff().values[1:]\n",
    "spy_ret_normalized_rf1 = (returns_spy_strategy_rf['spy_cum_ret'] - 1).diff().values[1:]\n",
    "information_ratio_rf1 = calc_information_ratio(strategy_ret_normalized_rf1, spy_ret_normalized_rf1)\n",
    "\n",
    "strategy_ret_normalized_rf2 = (returns_spy_strategy_rf['strategy2'] - 1).diff().values[1:]\n",
    "spy_ret_normalized_rf2 = (returns_spy_strategy_rf['spy_cum_ret'] - 1).diff().values[1:]\n",
    "information_ratio_rf2 = calc_information_ratio(strategy_ret_normalized_rf2, spy_ret_normalized_rf2)"
   ]
  },
  {
   "cell_type": "code",
   "execution_count": 134,
   "metadata": {},
   "outputs": [],
   "source": [
    "alpha_rf1 = calc_alpha(strategy_ret_normalized_rf1, spy_ret_normalized_rf1)\n",
    "alpha_rf2 = calc_alpha(strategy_ret_normalized_rf2, spy_ret_normalized_rf2)"
   ]
  },
  {
   "cell_type": "code",
   "execution_count": 135,
   "metadata": {},
   "outputs": [
    {
     "data": {
      "text/plain": [
       "<matplotlib.legend.Legend at 0x21df110d438>"
      ]
     },
     "execution_count": 135,
     "metadata": {},
     "output_type": "execute_result"
    },
    {
     "data": {
      "image/png": "[encoded data removed]",
      "text/plain": [
       "<Figure size 432x288 with 1 Axes>"
      ]
     },
     "metadata": {
      "needs_background": "light"
     },
     "output_type": "display_data"
    }
   ],
   "source": [
    "plt.plot(returns_spy_strategy_rf)\n",
    "plt.legend(['SPY','RandomForest Strategy 1', 'Random Forest Strategy 2'])"
   ]
  },
  {
   "cell_type": "code",
   "execution_count": 136,
   "metadata": {},
   "outputs": [],
   "source": [
    "results = results.append({\"model_type\":\"random_forest_strat1\", \"hyper_parameters\":rf_clf.get_params(), \"max_drawdown\":max_dd_rf1, \n",
    "                \"sharpe_ratio\":sharpe_ratio_rf1, \"alpha\":alpha_rf1, \"information_ratio\":information_ratio_rf1,\n",
    "                         \"returns_sd\":rf_returns_sd1}, ignore_index=True)\n",
    "results = results.append({\"model_type\":\"random_forest_strat2\", \"hyper_parameters\":rf_clf.get_params(), \"max_drawdown\":max_dd_rf2, \n",
    "                \"sharpe_ratio\":sharpe_ratio_rf2, \"alpha\":alpha_rf2, \"information_ratio\":information_ratio_rf2,\n",
    "                         \"returns_sd\":rf_returns_sd2}, ignore_index=True)"
   ]
  },
  {
   "cell_type": "code",
   "execution_count": 137,
   "metadata": {},
   "outputs": [
    {
     "data": {
      "text/html": [
       "<div>\n",
       "<style scoped>\n",
       "    .dataframe tbody tr th:only-of-type {\n",
       "        vertical-align: middle;\n",
       "    }\n",
       "\n",
       "    .dataframe tbody tr th {\n",
       "        vertical-align: top;\n",
       "    }\n",
       "\n",
       "    .dataframe thead th {\n",
       "        text-align: right;\n",
       "    }\n",
       "</style>\n",
       "<table border=\"1\" class=\"dataframe\">\n",
       "  <thead>\n",
       "    <tr style=\"text-align: right;\">\n",
       "      <th></th>\n",
       "      <th>model_type</th>\n",
       "      <th>hyper_parameters</th>\n",
       "      <th>max_drawdown</th>\n",
       "      <th>sharpe_ratio</th>\n",
       "      <th>alpha</th>\n",
       "      <th>information_ratio</th>\n",
       "      <th>returns_sd</th>\n",
       "    </tr>\n",
       "  </thead>\n",
       "  <tbody>\n",
       "    <tr>\n",
       "      <th>0</th>\n",
       "      <td>random_forest_strat1</td>\n",
       "      <td>{'bootstrap': True, 'class_weight': None, 'cri...</td>\n",
       "      <td>0.406891</td>\n",
       "      <td>0.886202</td>\n",
       "      <td>0.168042</td>\n",
       "      <td>0.733543</td>\n",
       "      <td>1.106498</td>\n",
       "    </tr>\n",
       "    <tr>\n",
       "      <th>1</th>\n",
       "      <td>random_forest_strat2</td>\n",
       "      <td>{'bootstrap': True, 'class_weight': None, 'cri...</td>\n",
       "      <td>0.071141</td>\n",
       "      <td>0.819332</td>\n",
       "      <td>0.043336</td>\n",
       "      <td>0.797313</td>\n",
       "      <td>0.223610</td>\n",
       "    </tr>\n",
       "  </tbody>\n",
       "</table>\n",
       "</div>"
      ],
      "text/plain": [
       "             model_type                                   hyper_parameters  \\\n",
       "0  random_forest_strat1  {'bootstrap': True, 'class_weight': None, 'cri...   \n",
       "1  random_forest_strat2  {'bootstrap': True, 'class_weight': None, 'cri...   \n",
       "\n",
       "   max_drawdown  sharpe_ratio     alpha  information_ratio  returns_sd  \n",
       "0      0.406891      0.886202  0.168042           0.733543    1.106498  \n",
       "1      0.071141      0.819332  0.043336           0.797313    0.223610  "
      ]
     },
     "metadata": {},
     "output_type": "display_data"
    }
   ],
   "source": [
    "display(results)"
   ]
  },
  {
   "cell_type": "markdown",
   "metadata": {},
   "source": [
    "# Adaboost Classifier"
   ]
  },
  {
   "cell_type": "code",
   "execution_count": 105,
   "metadata": {},
   "outputs": [],
   "source": [
    "#Use GridSearchCV in order to find our best hyperparam set\n",
    "param_grid_ada = [\n",
    "  {'n_estimators': [5, 10,50], \n",
    "   'learning_rate':[.2,.6],\n",
    "   'algorithm': [\"SAMME.R\"]}    \n",
    " ]"
   ]
  },
  {
   "cell_type": "code",
   "execution_count": 109,
   "metadata": {},
   "outputs": [],
   "source": [
    "#Using DST with some depth feeding into AdaBoost. I experimented with default DSTs, which results in an underfitted Adaboost\n",
    "dst_clf = DecisionTreeClassifier(max_depth = 5) \n",
    "ada_clf = AdaBoostClassifier(dst_clf)"
   ]
  },
  {
   "cell_type": "code",
   "execution_count": 110,
   "metadata": {},
   "outputs": [
    {
     "data": {
      "text/plain": [
       "GridSearchCV(cv=3, error_score='raise-deprecating',\n",
       "             estimator=AdaBoostClassifier(algorithm='SAMME.R',\n",
       "                                          base_estimator=DecisionTreeClassifier(class_weight=None,\n",
       "                                                                                criterion='gini',\n",
       "                                                                                max_depth=5,\n",
       "                                                                                max_features=None,\n",
       "                                                                                max_leaf_nodes=None,\n",
       "                                                                                min_impurity_decrease=0.0,\n",
       "                                                                                min_impurity_split=None,\n",
       "                                                                                min_samples_leaf=1,\n",
       "                                                                                min_samples_split=2,\n",
       "                                                                                min_weight_fraction_leaf=0.0,\n",
       "                                                                                presort=False,\n",
       "                                                                                random_state=None,\n",
       "                                                                                splitter='best'),\n",
       "                                          learning_rate=1.0, n_estimators=50,\n",
       "                                          random_state=None),\n",
       "             iid='warn', n_jobs=None,\n",
       "             param_grid=[{'algorithm': ['SAMME.R'], 'learning_rate': [0.2, 0.6],\n",
       "                          'n_estimators': [5, 10, 50]}],\n",
       "             pre_dispatch='2*n_jobs', refit=True, return_train_score=False,\n",
       "             scoring=None, verbose=0)"
      ]
     },
     "execution_count": 110,
     "metadata": {},
     "output_type": "execute_result"
    }
   ],
   "source": [
    "search_ada = GridSearchCV(cv=3,\n",
    "                estimator = ada_clf,\n",
    "                param_grid = param_grid_ada)\n",
    "search_ada.fit(input_data_hyperparam[top10features], label_data_hyperparam)"
   ]
  },
  {
   "cell_type": "code",
   "execution_count": 111,
   "metadata": {},
   "outputs": [
    {
     "data": {
      "text/plain": [
       "{'algorithm': 'SAMME.R', 'learning_rate': 0.2, 'n_estimators': 5}"
      ]
     },
     "execution_count": 111,
     "metadata": {},
     "output_type": "execute_result"
    }
   ],
   "source": [
    "search_ada.best_params_"
   ]
  },
  {
   "cell_type": "code",
   "execution_count": 112,
   "metadata": {},
   "outputs": [
    {
     "data": {
      "text/plain": [
       "AdaBoostClassifier(algorithm='SAMME.R',\n",
       "                   base_estimator=DecisionTreeClassifier(class_weight=None,\n",
       "                                                         criterion='gini',\n",
       "                                                         max_depth=5,\n",
       "                                                         max_features=None,\n",
       "                                                         max_leaf_nodes=None,\n",
       "                                                         min_impurity_decrease=0.0,\n",
       "                                                         min_impurity_split=None,\n",
       "                                                         min_samples_leaf=1,\n",
       "                                                         min_samples_split=2,\n",
       "                                                         min_weight_fraction_leaf=0.0,\n",
       "                                                         presort=False,\n",
       "                                                         random_state=None,\n",
       "                                                         splitter='best'),\n",
       "                   learning_rate=0.2, n_estimators=5, random_state=None)"
      ]
     },
     "execution_count": 112,
     "metadata": {},
     "output_type": "execute_result"
    }
   ],
   "source": [
    "ada_clf.set_params(**search_ada.best_params_)"
   ]
  },
  {
   "cell_type": "code",
   "execution_count": 113,
   "metadata": {},
   "outputs": [],
   "source": [
    "strategy_returns_ada1 = calc_strategy_returns_style1(training_data, training_labels, test_frames, test_data, top10features, ada_clf)\n",
    "strategy_returns_ada2 = calc_strategy_returns_style2(training_data, training_labels, test_frames, test_data, top10features, ada_clf)"
   ]
  },
  {
   "cell_type": "code",
   "execution_count": 138,
   "metadata": {},
   "outputs": [],
   "source": [
    "returns_spy_strategy_ada = SPY.copy()"
   ]
  },
  {
   "cell_type": "code",
   "execution_count": 139,
   "metadata": {},
   "outputs": [],
   "source": [
    "returns_spy_strategy_ada['strategy1'] = strategy_returns_ada1\n",
    "returns_spy_strategy_ada['strategy2'] = strategy_returns_ada2\n",
    "results_graph_data['AdaBoost_Strat1'] = strategy_returns_ada1\n",
    "results_graph_data['AdaBoost_Strat2'] = strategy_returns_ada2"
   ]
  },
  {
   "cell_type": "code",
   "execution_count": 140,
   "metadata": {},
   "outputs": [
    {
     "name": "stdout",
     "output_type": "stream",
     "text": [
      "            spy_cum_ret  strategy1  strategy2\n",
      "date                                         \n",
      "2003-12-31     1.000000   1.000000   1.000000\n",
      "2004-12-31     1.107865   1.169440   1.056695\n",
      "2005-12-31     1.160316   1.447149   1.171991\n",
      "2006-12-31     1.312439   1.573140   1.205424\n",
      "2007-12-31     1.375107   1.851245   1.248788\n",
      "2008-12-31     1.001322   1.802006   1.306055\n",
      "2009-12-31     1.270714   1.659130   1.364301\n",
      "2010-12-31     1.427042   1.962792   1.467164\n",
      "2011-12-31     1.472251   2.237915   1.506533\n",
      "2012-12-31     1.628635   2.421369   1.466077\n",
      "2013-12-31     1.914856   2.814204   1.513780\n",
      "2014-12-31     2.047496   3.055629   1.533640\n",
      "2015-12-31     2.071800   3.237520   1.624379\n",
      "2016-12-31     2.193680   3.175632   1.597231\n",
      "2017-12-31     2.392402   3.395423   1.627071\n",
      "2018-12-31     2.360201   3.650621   1.671960\n"
     ]
    }
   ],
   "source": [
    "#annualize results\n",
    "returns_spy_strategy_ada = returns_spy_strategy_ada.resample('A').bfill()\n",
    "print(returns_spy_strategy_ada)"
   ]
  },
  {
   "cell_type": "code",
   "execution_count": 141,
   "metadata": {},
   "outputs": [],
   "source": [
    "ada_returns_sd1 = np.std(returns_spy_strategy_ada['strategy1'])\n",
    "ada_returns_sd2 = np.std(returns_spy_strategy_ada['strategy2'])"
   ]
  },
  {
   "cell_type": "code",
   "execution_count": 142,
   "metadata": {},
   "outputs": [],
   "source": [
    "max_dd_ada1 = calc_max_drawdown(returns_spy_strategy_ada['strategy1'])\n",
    "max_dd_ada2 = calc_max_drawdown(returns_spy_strategy_ada['strategy2'])"
   ]
  },
  {
   "cell_type": "code",
   "execution_count": 143,
   "metadata": {},
   "outputs": [],
   "source": [
    "sharpe_ratio_ada1 = calc_sharpe_ratio(returns_spy_strategy_ada[['spy_cum_ret', 'strategy1']])\n",
    "sharpe_ratio_ada2 = calc_sharpe_ratio(returns_spy_strategy_ada[['spy_cum_ret', 'strategy2']])"
   ]
  },
  {
   "cell_type": "code",
   "execution_count": 144,
   "metadata": {},
   "outputs": [],
   "source": [
    "strategy_ret_normalized_ada1 = (returns_spy_strategy_ada['strategy1'] - 1).diff().values[1:]\n",
    "spy_ret_normalized_ada1 = (returns_spy_strategy_ada['spy_cum_ret'] - 1).diff().values[1:]\n",
    "information_ratio_ada1 = calc_information_ratio(strategy_ret_normalized_ada1, spy_ret_normalized_ada1)\n",
    "\n",
    "strategy_ret_normalized_ada2 = (returns_spy_strategy_ada['strategy2'] - 1).diff().values[1:]\n",
    "spy_ret_normalized_ada2 = (returns_spy_strategy_ada['spy_cum_ret'] - 1).diff().values[1:]\n",
    "information_ratio_ada2 = calc_information_ratio(strategy_ret_normalized_ada2, spy_ret_normalized_ada2)"
   ]
  },
  {
   "cell_type": "code",
   "execution_count": 145,
   "metadata": {},
   "outputs": [],
   "source": [
    "alpha_ada1 = calc_alpha(strategy_ret_normalized_ada1, spy_ret_normalized_ada1)\n",
    "alpha_ada2 = calc_alpha(strategy_ret_normalized_ada2, spy_ret_normalized_ada2)"
   ]
  },
  {
   "cell_type": "code",
   "execution_count": 146,
   "metadata": {},
   "outputs": [
    {
     "data": {
      "text/plain": [
       "<matplotlib.legend.Legend at 0x21df1dd9b38>"
      ]
     },
     "execution_count": 146,
     "metadata": {},
     "output_type": "execute_result"
    },
    {
     "data": {
      "image/png": "[encoded data removed]",
      "text/plain": [
       "<Figure size 432x288 with 1 Axes>"
      ]
     },
     "metadata": {
      "needs_background": "light"
     },
     "output_type": "display_data"
    }
   ],
   "source": [
    "plt.plot(returns_spy_strategy_ada)\n",
    "plt.legend(['SPY','AdaBoost Strategy 1', 'AdaBoost Strategy2'])"
   ]
  },
  {
   "cell_type": "code",
   "execution_count": 147,
   "metadata": {},
   "outputs": [],
   "source": [
    "results = results.append({\"model_type\":\"ada_boost_strat1\", \"hyper_parameters\":ada_clf.get_params(), \"max_drawdown\":max_dd_ada1, \n",
    "                \"sharpe_ratio\":sharpe_ratio_ada1, \"alpha\":alpha_ada1, \"information_ratio\":information_ratio_ada1,\n",
    "                         \"returns_sd\": ada_returns_sd1}, ignore_index=True)\n",
    "results = results.append({\"model_type\":\"ada_boost_strat2\", \"hyper_parameters\":ada_clf.get_params(), \"max_drawdown\":max_dd_ada2, \n",
    "                \"sharpe_ratio\":sharpe_ratio_ada2, \"alpha\":alpha_ada2, \"information_ratio\":information_ratio_ada2,\n",
    "                         \"returns_sd\": ada_returns_sd2}, ignore_index=True)"
   ]
  },
  {
   "cell_type": "code",
   "execution_count": 148,
   "metadata": {},
   "outputs": [
    {
     "data": {
      "text/html": [
       "<div>\n",
       "<style scoped>\n",
       "    .dataframe tbody tr th:only-of-type {\n",
       "        vertical-align: middle;\n",
       "    }\n",
       "\n",
       "    .dataframe tbody tr th {\n",
       "        vertical-align: top;\n",
       "    }\n",
       "\n",
       "    .dataframe thead th {\n",
       "        text-align: right;\n",
       "    }\n",
       "</style>\n",
       "<table border=\"1\" class=\"dataframe\">\n",
       "  <thead>\n",
       "    <tr style=\"text-align: right;\">\n",
       "      <th></th>\n",
       "      <th>model_type</th>\n",
       "      <th>hyper_parameters</th>\n",
       "      <th>max_drawdown</th>\n",
       "      <th>sharpe_ratio</th>\n",
       "      <th>alpha</th>\n",
       "      <th>information_ratio</th>\n",
       "      <th>returns_sd</th>\n",
       "    </tr>\n",
       "  </thead>\n",
       "  <tbody>\n",
       "    <tr>\n",
       "      <th>0</th>\n",
       "      <td>random_forest_strat1</td>\n",
       "      <td>{'bootstrap': True, 'class_weight': None, 'cri...</td>\n",
       "      <td>0.406891</td>\n",
       "      <td>0.886202</td>\n",
       "      <td>0.168042</td>\n",
       "      <td>0.733543</td>\n",
       "      <td>1.106498</td>\n",
       "    </tr>\n",
       "    <tr>\n",
       "      <th>1</th>\n",
       "      <td>random_forest_strat2</td>\n",
       "      <td>{'bootstrap': True, 'class_weight': None, 'cri...</td>\n",
       "      <td>0.071141</td>\n",
       "      <td>0.819332</td>\n",
       "      <td>0.043336</td>\n",
       "      <td>0.797313</td>\n",
       "      <td>0.223610</td>\n",
       "    </tr>\n",
       "    <tr>\n",
       "      <th>2</th>\n",
       "      <td>ada_boost_strat1</td>\n",
       "      <td>{'algorithm': 'SAMME.R', 'base_estimator__clas...</td>\n",
       "      <td>0.192115</td>\n",
       "      <td>1.172459</td>\n",
       "      <td>0.155250</td>\n",
       "      <td>1.094747</td>\n",
       "      <td>0.818302</td>\n",
       "    </tr>\n",
       "    <tr>\n",
       "      <th>3</th>\n",
       "      <td>ada_boost_strat2</td>\n",
       "      <td>{'algorithm': 'SAMME.R', 'base_estimator__clas...</td>\n",
       "      <td>0.040456</td>\n",
       "      <td>1.073291</td>\n",
       "      <td>0.049262</td>\n",
       "      <td>1.239814</td>\n",
       "      <td>0.204080</td>\n",
       "    </tr>\n",
       "  </tbody>\n",
       "</table>\n",
       "</div>"
      ],
      "text/plain": [
       "             model_type                                   hyper_parameters  \\\n",
       "0  random_forest_strat1  {'bootstrap': True, 'class_weight': None, 'cri...   \n",
       "1  random_forest_strat2  {'bootstrap': True, 'class_weight': None, 'cri...   \n",
       "2      ada_boost_strat1  {'algorithm': 'SAMME.R', 'base_estimator__clas...   \n",
       "3      ada_boost_strat2  {'algorithm': 'SAMME.R', 'base_estimator__clas...   \n",
       "\n",
       "   max_drawdown  sharpe_ratio     alpha  information_ratio  returns_sd  \n",
       "0      0.406891      0.886202  0.168042           0.733543    1.106498  \n",
       "1      0.071141      0.819332  0.043336           0.797313    0.223610  \n",
       "2      0.192115      1.172459  0.155250           1.094747    0.818302  \n",
       "3      0.040456      1.073291  0.049262           1.239814    0.204080  "
      ]
     },
     "metadata": {},
     "output_type": "display_data"
    }
   ],
   "source": [
    "display(results)"
   ]
  },
  {
   "cell_type": "markdown",
   "metadata": {},
   "source": [
    "# Gradient Boosting Classifer"
   ]
  },
  {
   "cell_type": "code",
   "execution_count": 149,
   "metadata": {},
   "outputs": [],
   "source": [
    "#Use GridSearchCV in order to find our best hyperparam set\n",
    "param_grid_gb = [\n",
    "  {'n_estimators': [10,100], \n",
    "   'max_depth': [1,3,5,10],\n",
    "   'objective': ['multi_class'],\n",
    "   'reg_lambda': [.2, .6],\n",
    "   'learning_rate':[.2, .6]}\n",
    " ]"
   ]
  },
  {
   "cell_type": "code",
   "execution_count": 150,
   "metadata": {},
   "outputs": [
    {
     "data": {
      "text/plain": [
       "GridSearchCV(cv=3, error_score='raise-deprecating',\n",
       "             estimator=LGBMClassifier(boosting_type='gbdt', class_weight=None,\n",
       "                                      colsample_bytree=1.0,\n",
       "                                      importance_type='split',\n",
       "                                      learning_rate=0.1, max_depth=-1,\n",
       "                                      min_child_samples=20,\n",
       "                                      min_child_weight=0.001,\n",
       "                                      min_split_gain=0.0, n_estimators=100,\n",
       "                                      n_jobs=-1, num_leaves=31, objective=None,\n",
       "                                      random_state=None, reg_alpha=0.0,\n",
       "                                      reg_lambda=0.0, silent=True,\n",
       "                                      subsample=1.0, subsample_for_bin=200000,\n",
       "                                      subsample_freq=0),\n",
       "             iid='warn', n_jobs=None,\n",
       "             param_grid=[{'learning_rate': [0.2, 0.6],\n",
       "                          'max_depth': [1, 3, 5, 10], 'n_estimators': [10, 100],\n",
       "                          'objective': ['multi_class'],\n",
       "                          'reg_lambda': [0.2, 0.6]}],\n",
       "             pre_dispatch='2*n_jobs', refit=True, return_train_score=False,\n",
       "             scoring=None, verbose=0)"
      ]
     },
     "execution_count": 150,
     "metadata": {},
     "output_type": "execute_result"
    }
   ],
   "source": [
    "gb_clf = lgb.LGBMClassifier()\n",
    "search_gb = GridSearchCV(cv=3,\n",
    "                estimator = gb_clf, \n",
    "                param_grid = param_grid_gb)\n",
    "search_gb.fit(input_data_hyperparam[top10features], label_data_hyperparam)"
   ]
  },
  {
   "cell_type": "code",
   "execution_count": 166,
   "metadata": {
    "ExecuteTime": {
     "end_time": "2019-05-23T01:05:32.909162Z",
     "start_time": "2019-05-23T01:05:32.905144Z"
    }
   },
   "outputs": [
    {
     "data": {
      "text/plain": [
       "{'learning_rate': 0.2,\n",
       " 'max_depth': 3,\n",
       " 'n_estimators': 100,\n",
       " 'objective': 'multi_class',\n",
       " 'reg_lambda': 0.2}"
      ]
     },
     "execution_count": 166,
     "metadata": {},
     "output_type": "execute_result"
    }
   ],
   "source": [
    "search_gb.best_params_"
   ]
  },
  {
   "cell_type": "code",
   "execution_count": 167,
   "metadata": {},
   "outputs": [
    {
     "data": {
      "text/plain": [
       "LGBMClassifier(boosting_type='gbdt', class_weight=None, colsample_bytree=1.0,\n",
       "               importance_type='split', learning_rate=0.2, max_depth=3,\n",
       "               min_child_samples=20, min_child_weight=0.001, min_split_gain=0.0,\n",
       "               n_estimators=100, n_jobs=-1, num_leaves=31,\n",
       "               objective='multi_class', random_state=None, reg_alpha=0.0,\n",
       "               reg_lambda=0.2, silent=True, subsample=1.0,\n",
       "               subsample_for_bin=200000, subsample_freq=0)"
      ]
     },
     "execution_count": 167,
     "metadata": {},
     "output_type": "execute_result"
    }
   ],
   "source": [
    "gb_clf.set_params(**search_gb.best_params_)"
   ]
  },
  {
   "cell_type": "code",
   "execution_count": 168,
   "metadata": {},
   "outputs": [],
   "source": [
    "strategy_returns_gb1 = calc_strategy_returns_style1(training_data, training_labels, test_frames, test_data, top10features, gb_clf)\n",
    "strategy_returns_gb2 = calc_strategy_returns_style2(training_data, training_labels, test_frames, test_data, top10features, gb_clf)"
   ]
  },
  {
   "cell_type": "code",
   "execution_count": 154,
   "metadata": {},
   "outputs": [],
   "source": [
    "returns_spy_strategy_gb = SPY.copy()"
   ]
  },
  {
   "cell_type": "code",
   "execution_count": 155,
   "metadata": {},
   "outputs": [],
   "source": [
    "returns_spy_strategy_gb['strategy1'] = strategy_returns_gb1\n",
    "returns_spy_strategy_gb['strategy2'] = strategy_returns_gb2\n",
    "results_graph_data['GB_Strat1'] = strategy_returns_gb1\n",
    "results_graph_data['GB_Strat2'] = strategy_returns_gb2"
   ]
  },
  {
   "cell_type": "code",
   "execution_count": 156,
   "metadata": {},
   "outputs": [
    {
     "name": "stdout",
     "output_type": "stream",
     "text": [
      "            spy_cum_ret  strategy1  strategy2\n",
      "date                                         \n",
      "2003-12-31     1.000000   1.000000   1.000000\n",
      "2004-12-31     1.107865   1.160798   1.055208\n",
      "2005-12-31     1.160316   1.426645   1.165429\n",
      "2006-12-31     1.312439   1.554494   1.212150\n",
      "2007-12-31     1.375107   1.800195   1.255301\n",
      "2008-12-31     1.001322   1.794482   1.322379\n",
      "2009-12-31     1.270714   1.750631   1.362120\n",
      "2010-12-31     1.427042   2.038340   1.450211\n",
      "2011-12-31     1.472251   2.328626   1.491873\n",
      "2012-12-31     1.628635   2.535001   1.487057\n",
      "2013-12-31     1.914856   2.838286   1.518150\n",
      "2014-12-31     2.047496   3.021929   1.519580\n",
      "2015-12-31     2.071800   3.234443   1.619425\n",
      "2016-12-31     2.193680   3.198282   1.597594\n",
      "2017-12-31     2.392402   3.342829   1.612696\n",
      "2018-12-31     2.360201   3.549716   1.660852\n"
     ]
    }
   ],
   "source": [
    "#annualize results\n",
    "returns_spy_strategy_gb = returns_spy_strategy_gb.resample('A').bfill()\n",
    "print(returns_spy_strategy_gb)"
   ]
  },
  {
   "cell_type": "code",
   "execution_count": 157,
   "metadata": {},
   "outputs": [],
   "source": [
    "gb_returns_sd1 = np.std(returns_spy_strategy_gb['strategy1'])\n",
    "gb_returns_sd2 = np.std(returns_spy_strategy_gb['strategy2'])"
   ]
  },
  {
   "cell_type": "code",
   "execution_count": 158,
   "metadata": {},
   "outputs": [
    {
     "name": "stderr",
     "output_type": "stream",
     "text": [
      "C:\\Users\\eddie\\Anaconda3\\lib\\site-packages\\numpy\\core\\fromnumeric.py:56: FutureWarning: \n",
      "The current behaviour of 'Series.argmax' is deprecated, use 'idxmax'\n",
      "instead.\n",
      "The behavior of 'argmax' will be corrected to return the positional\n",
      "maximum in the future. For now, use 'series.values.argmax' or\n",
      "'np.argmax(np.array(values))' to get the position of the maximum\n",
      "row.\n",
      "  return getattr(obj, method)(*args, **kwds)\n"
     ]
    }
   ],
   "source": [
    "max_dd_gb1 = calc_max_drawdown(returns_spy_strategy_gb['strategy1'])\n",
    "max_dd_gb2 = calc_max_drawdown(returns_spy_strategy_gb['strategy2'])"
   ]
  },
  {
   "cell_type": "code",
   "execution_count": 159,
   "metadata": {},
   "outputs": [],
   "source": [
    "sharpe_ratio_gb1 = calc_sharpe_ratio(returns_spy_strategy_gb[['spy_cum_ret', 'strategy1']])\n",
    "sharpe_ratio_gb2 = calc_sharpe_ratio(returns_spy_strategy_gb[['spy_cum_ret', 'strategy2']])"
   ]
  },
  {
   "cell_type": "code",
   "execution_count": 160,
   "metadata": {},
   "outputs": [],
   "source": [
    "strategy_ret_normalized_gb1 = (returns_spy_strategy_gb['strategy1'] - 1).diff().values[1:]\n",
    "spy_ret_normalized_gb1 = (returns_spy_strategy_gb['spy_cum_ret'] - 1).diff().values[1:]\n",
    "information_ratio_gb1 = calc_information_ratio(strategy_ret_normalized_gb1, spy_ret_normalized_gb1)\n",
    "\n",
    "strategy_ret_normalized_gb2 = (returns_spy_strategy_gb['strategy2'] - 1).diff().values[1:]\n",
    "spy_ret_normalized_gb2 = (returns_spy_strategy_gb['spy_cum_ret'] - 1).diff().values[1:]\n",
    "information_ratio_gb2 = calc_information_ratio(strategy_ret_normalized_gb2, spy_ret_normalized_gb2)"
   ]
  },
  {
   "cell_type": "code",
   "execution_count": 161,
   "metadata": {},
   "outputs": [],
   "source": [
    "alpha_gb1 = calc_alpha(strategy_ret_normalized_gb1, spy_ret_normalized_gb1)\n",
    "alpha_gb2 = calc_alpha(strategy_ret_normalized_gb2, spy_ret_normalized_gb2)"
   ]
  },
  {
   "cell_type": "code",
   "execution_count": 162,
   "metadata": {},
   "outputs": [
    {
     "data": {
      "text/plain": [
       "<matplotlib.legend.Legend at 0x21df391eef0>"
      ]
     },
     "execution_count": 162,
     "metadata": {},
     "output_type": "execute_result"
    },
    {
     "data": {
      "image/png": "[encoded data removed]",
      "text/plain": [
       "<Figure size 432x288 with 1 Axes>"
      ]
     },
     "metadata": {
      "needs_background": "light"
     },
     "output_type": "display_data"
    }
   ],
   "source": [
    "plt.plot(returns_spy_strategy_gb)\n",
    "plt.legend(['SPY','Gradient Boosted Strategy 1', 'Gradient Boosted Strategy2'])"
   ]
  },
  {
   "cell_type": "code",
   "execution_count": 163,
   "metadata": {},
   "outputs": [],
   "source": [
    "results = results.append({\"model_type\":\"gradient_boost_strat1\", \"hyper_parameters\":gb_clf.get_params(), \"max_drawdown\":max_dd_gb1, \n",
    "                \"sharpe_ratio\":sharpe_ratio_gb1, \"alpha\":alpha_gb1, \"information_ratio\":information_ratio_gb1,\n",
    "                         \"returns_sd\": gb_returns_sd1}, ignore_index=True)\n",
    "results = results.append({\"model_type\":\"gradient_boost_strat2\", \"hyper_parameters\":gb_clf.get_params(), \"max_drawdown\":max_dd_gb2, \n",
    "                \"sharpe_ratio\":sharpe_ratio_gb2, \"alpha\":alpha_gb2, \"information_ratio\":information_ratio_gb2,\n",
    "                         \"returns_sd\": gb_returns_sd2}, ignore_index=True)"
   ]
  },
  {
   "cell_type": "code",
   "execution_count": 164,
   "metadata": {},
   "outputs": [
    {
     "data": {
      "text/html": [
       "<div>\n",
       "<style scoped>\n",
       "    .dataframe tbody tr th:only-of-type {\n",
       "        vertical-align: middle;\n",
       "    }\n",
       "\n",
       "    .dataframe tbody tr th {\n",
       "        vertical-align: top;\n",
       "    }\n",
       "\n",
       "    .dataframe thead th {\n",
       "        text-align: right;\n",
       "    }\n",
       "</style>\n",
       "<table border=\"1\" class=\"dataframe\">\n",
       "  <thead>\n",
       "    <tr style=\"text-align: right;\">\n",
       "      <th></th>\n",
       "      <th>model_type</th>\n",
       "      <th>hyper_parameters</th>\n",
       "      <th>max_drawdown</th>\n",
       "      <th>sharpe_ratio</th>\n",
       "      <th>alpha</th>\n",
       "      <th>information_ratio</th>\n",
       "      <th>returns_sd</th>\n",
       "    </tr>\n",
       "  </thead>\n",
       "  <tbody>\n",
       "    <tr>\n",
       "      <th>0</th>\n",
       "      <td>random_forest_strat1</td>\n",
       "      <td>{'bootstrap': True, 'class_weight': None, 'cri...</td>\n",
       "      <td>0.406891</td>\n",
       "      <td>0.886202</td>\n",
       "      <td>0.168042</td>\n",
       "      <td>0.733543</td>\n",
       "      <td>1.106498</td>\n",
       "    </tr>\n",
       "    <tr>\n",
       "      <th>1</th>\n",
       "      <td>random_forest_strat2</td>\n",
       "      <td>{'bootstrap': True, 'class_weight': None, 'cri...</td>\n",
       "      <td>0.071141</td>\n",
       "      <td>0.819332</td>\n",
       "      <td>0.043336</td>\n",
       "      <td>0.797313</td>\n",
       "      <td>0.223610</td>\n",
       "    </tr>\n",
       "    <tr>\n",
       "      <th>2</th>\n",
       "      <td>ada_boost_strat1</td>\n",
       "      <td>{'algorithm': 'SAMME.R', 'base_estimator__clas...</td>\n",
       "      <td>0.192115</td>\n",
       "      <td>1.172459</td>\n",
       "      <td>0.155250</td>\n",
       "      <td>1.094747</td>\n",
       "      <td>0.818302</td>\n",
       "    </tr>\n",
       "    <tr>\n",
       "      <th>3</th>\n",
       "      <td>ada_boost_strat2</td>\n",
       "      <td>{'algorithm': 'SAMME.R', 'base_estimator__clas...</td>\n",
       "      <td>0.040456</td>\n",
       "      <td>1.073291</td>\n",
       "      <td>0.049262</td>\n",
       "      <td>1.239814</td>\n",
       "      <td>0.204080</td>\n",
       "    </tr>\n",
       "    <tr>\n",
       "      <th>4</th>\n",
       "      <td>gradient_boost_strat1</td>\n",
       "      <td>{'boosting_type': 'gbdt', 'class_weight': None...</td>\n",
       "      <td>0.049563</td>\n",
       "      <td>1.469581</td>\n",
       "      <td>0.155672</td>\n",
       "      <td>1.420951</td>\n",
       "      <td>0.805261</td>\n",
       "    </tr>\n",
       "    <tr>\n",
       "      <th>5</th>\n",
       "      <td>gradient_boost_strat2</td>\n",
       "      <td>{'boosting_type': 'gbdt', 'class_weight': None...</td>\n",
       "      <td>0.021832</td>\n",
       "      <td>1.174899</td>\n",
       "      <td>0.052000</td>\n",
       "      <td>1.524780</td>\n",
       "      <td>0.200711</td>\n",
       "    </tr>\n",
       "  </tbody>\n",
       "</table>\n",
       "</div>"
      ],
      "text/plain": [
       "              model_type                                   hyper_parameters  \\\n",
       "0   random_forest_strat1  {'bootstrap': True, 'class_weight': None, 'cri...   \n",
       "1   random_forest_strat2  {'bootstrap': True, 'class_weight': None, 'cri...   \n",
       "2       ada_boost_strat1  {'algorithm': 'SAMME.R', 'base_estimator__clas...   \n",
       "3       ada_boost_strat2  {'algorithm': 'SAMME.R', 'base_estimator__clas...   \n",
       "4  gradient_boost_strat1  {'boosting_type': 'gbdt', 'class_weight': None...   \n",
       "5  gradient_boost_strat2  {'boosting_type': 'gbdt', 'class_weight': None...   \n",
       "\n",
       "   max_drawdown  sharpe_ratio     alpha  information_ratio  returns_sd  \n",
       "0      0.406891      0.886202  0.168042           0.733543    1.106498  \n",
       "1      0.071141      0.819332  0.043336           0.797313    0.223610  \n",
       "2      0.192115      1.172459  0.155250           1.094747    0.818302  \n",
       "3      0.040456      1.073291  0.049262           1.239814    0.204080  \n",
       "4      0.049563      1.469581  0.155672           1.420951    0.805261  \n",
       "5      0.021832      1.174899  0.052000           1.524780    0.200711  "
      ]
     },
     "metadata": {},
     "output_type": "display_data"
    }
   ],
   "source": [
    "display(results)"
   ]
  },
  {
   "cell_type": "markdown",
   "metadata": {},
   "source": [
    "# Voting Classifier"
   ]
  },
  {
   "cell_type": "markdown",
   "metadata": {},
   "source": [
    "Next use the best hyper parameters you found for each classifier and the 10 features to <br>\n",
    "make a Voting Classifier (see the documentation for VotingClassifier in sklearn) and run <br>\n",
    "a back test for this classifier, computing SR, IR, alpha and maximum drawdown"
   ]
  },
  {
   "cell_type": "code",
   "execution_count": 169,
   "metadata": {},
   "outputs": [],
   "source": [
    "voting_clf = VotingClassifier(estimators = [('rf', rf_clf), \n",
    "                                            ('ada', ada_clf), \n",
    "                                            ('gb', gb_clf)], \n",
    "                              voting = 'soft')\n",
    "voting_clf = voting_clf.fit(input_data_hyperparam[top10features], label_data_hyperparam)"
   ]
  },
  {
   "cell_type": "code",
   "execution_count": 170,
   "metadata": {},
   "outputs": [],
   "source": [
    "strategy_returns_voting = calc_strategy_returns_style1(training_data, training_labels, test_frames, test_data, top10features, voting_clf)"
   ]
  },
  {
   "cell_type": "code",
   "execution_count": 171,
   "metadata": {},
   "outputs": [],
   "source": [
    "returns_spy_strategy_voting = SPY.copy()"
   ]
  },
  {
   "cell_type": "code",
   "execution_count": 172,
   "metadata": {},
   "outputs": [],
   "source": [
    "returns_spy_strategy_voting['strategy'] = strategy_returns_voting\n",
    "results_graph_data['VotingClassifierStrat1'] = strategy_returns_voting"
   ]
  },
  {
   "cell_type": "code",
   "execution_count": 173,
   "metadata": {},
   "outputs": [
    {
     "name": "stdout",
     "output_type": "stream",
     "text": [
      "            spy_cum_ret  strategy\n",
      "date                             \n",
      "2003-12-31     1.000000  1.000000\n",
      "2004-12-31     1.107865  1.165982\n",
      "2005-12-31     1.160316  1.473248\n",
      "2006-12-31     1.312439  1.605309\n",
      "2007-12-31     1.375107  1.908702\n",
      "2008-12-31     1.001322  1.860578\n",
      "2009-12-31     1.270714  1.738947\n",
      "2010-12-31     1.427042  2.071488\n",
      "2011-12-31     1.472251  2.388548\n",
      "2012-12-31     1.628635  2.612748\n",
      "2013-12-31     1.914856  3.090419\n",
      "2014-12-31     2.047496  3.346174\n",
      "2015-12-31     2.071800  3.606709\n",
      "2016-12-31     2.193680  3.533640\n",
      "2017-12-31     2.392402  3.751483\n",
      "2018-12-31     2.360201  4.032929\n"
     ]
    }
   ],
   "source": [
    "#annualize results\n",
    "returns_spy_strategy_voting = returns_spy_strategy_voting.resample('A').bfill()\n",
    "print(returns_spy_strategy_voting)"
   ]
  },
  {
   "cell_type": "code",
   "execution_count": 174,
   "metadata": {},
   "outputs": [],
   "source": [
    "voting_returns_sd1 = np.std(returns_spy_strategy_voting['strategy'])"
   ]
  },
  {
   "cell_type": "code",
   "execution_count": 175,
   "metadata": {},
   "outputs": [
    {
     "name": "stderr",
     "output_type": "stream",
     "text": [
      "C:\\Users\\eddie\\Anaconda3\\lib\\site-packages\\numpy\\core\\fromnumeric.py:56: FutureWarning: \n",
      "The current behaviour of 'Series.argmax' is deprecated, use 'idxmax'\n",
      "instead.\n",
      "The behavior of 'argmax' will be corrected to return the positional\n",
      "maximum in the future. For now, use 'series.values.argmax' or\n",
      "'np.argmax(np.array(values))' to get the position of the maximum\n",
      "row.\n",
      "  return getattr(obj, method)(*args, **kwds)\n"
     ]
    }
   ],
   "source": [
    "max_dd_voting = calc_max_drawdown(returns_spy_strategy_voting['strategy'])"
   ]
  },
  {
   "cell_type": "code",
   "execution_count": 177,
   "metadata": {},
   "outputs": [],
   "source": [
    "sharpe_ratio_voting = calc_sharpe_ratio(returns_spy_strategy_voting[['spy_cum_ret','strategy']])"
   ]
  },
  {
   "cell_type": "code",
   "execution_count": 178,
   "metadata": {},
   "outputs": [],
   "source": [
    "strategy_ret_normalized_voting = (returns_spy_strategy_voting['strategy'] - 1).diff().values[1:]\n",
    "spy_ret_normalized_voting = (returns_spy_strategy_voting['spy_cum_ret'] - 1).diff().values[1:]\n",
    "information_ratio_voting = calc_information_ratio(strategy_ret_normalized_voting, spy_ret_normalized_voting)"
   ]
  },
  {
   "cell_type": "code",
   "execution_count": 179,
   "metadata": {},
   "outputs": [],
   "source": [
    "alpha_voting = calc_alpha(strategy_ret_normalized_voting, spy_ret_normalized_voting)"
   ]
  },
  {
   "cell_type": "code",
   "execution_count": 180,
   "metadata": {},
   "outputs": [],
   "source": [
    "results = results.append({\"model_type\":\"voting_classifier_strat1\", \"hyper_parameters\":voting_clf.get_params(), \"max_drawdown\":max_dd_voting, \n",
    "                \"sharpe_ratio\":sharpe_ratio_voting, \"alpha\":alpha_voting, \"information_ratio\":information_ratio_voting,\n",
    "                         \"returns_sd\": voting_returns_sd1}, ignore_index=True)"
   ]
  },
  {
   "cell_type": "code",
   "execution_count": 181,
   "metadata": {},
   "outputs": [
    {
     "data": {
      "text/html": [
       "<div>\n",
       "<style scoped>\n",
       "    .dataframe tbody tr th:only-of-type {\n",
       "        vertical-align: middle;\n",
       "    }\n",
       "\n",
       "    .dataframe tbody tr th {\n",
       "        vertical-align: top;\n",
       "    }\n",
       "\n",
       "    .dataframe thead th {\n",
       "        text-align: right;\n",
       "    }\n",
       "</style>\n",
       "<table border=\"1\" class=\"dataframe\">\n",
       "  <thead>\n",
       "    <tr style=\"text-align: right;\">\n",
       "      <th></th>\n",
       "      <th>model_type</th>\n",
       "      <th>hyper_parameters</th>\n",
       "      <th>max_drawdown</th>\n",
       "      <th>sharpe_ratio</th>\n",
       "      <th>alpha</th>\n",
       "      <th>information_ratio</th>\n",
       "      <th>returns_sd</th>\n",
       "    </tr>\n",
       "  </thead>\n",
       "  <tbody>\n",
       "    <tr>\n",
       "      <th>0</th>\n",
       "      <td>random_forest_strat1</td>\n",
       "      <td>{'bootstrap': True, 'class_weight': None, 'cri...</td>\n",
       "      <td>0.406891</td>\n",
       "      <td>0.886202</td>\n",
       "      <td>0.168042</td>\n",
       "      <td>0.733543</td>\n",
       "      <td>1.106498</td>\n",
       "    </tr>\n",
       "    <tr>\n",
       "      <th>1</th>\n",
       "      <td>random_forest_strat2</td>\n",
       "      <td>{'bootstrap': True, 'class_weight': None, 'cri...</td>\n",
       "      <td>0.071141</td>\n",
       "      <td>0.819332</td>\n",
       "      <td>0.043336</td>\n",
       "      <td>0.797313</td>\n",
       "      <td>0.223610</td>\n",
       "    </tr>\n",
       "    <tr>\n",
       "      <th>2</th>\n",
       "      <td>ada_boost_strat1</td>\n",
       "      <td>{'algorithm': 'SAMME.R', 'base_estimator__clas...</td>\n",
       "      <td>0.192115</td>\n",
       "      <td>1.172459</td>\n",
       "      <td>0.155250</td>\n",
       "      <td>1.094747</td>\n",
       "      <td>0.818302</td>\n",
       "    </tr>\n",
       "    <tr>\n",
       "      <th>3</th>\n",
       "      <td>ada_boost_strat2</td>\n",
       "      <td>{'algorithm': 'SAMME.R', 'base_estimator__clas...</td>\n",
       "      <td>0.040456</td>\n",
       "      <td>1.073291</td>\n",
       "      <td>0.049262</td>\n",
       "      <td>1.239814</td>\n",
       "      <td>0.204080</td>\n",
       "    </tr>\n",
       "    <tr>\n",
       "      <th>4</th>\n",
       "      <td>gradient_boost_strat1</td>\n",
       "      <td>{'boosting_type': 'gbdt', 'class_weight': None...</td>\n",
       "      <td>0.049563</td>\n",
       "      <td>1.469581</td>\n",
       "      <td>0.155672</td>\n",
       "      <td>1.420951</td>\n",
       "      <td>0.805261</td>\n",
       "    </tr>\n",
       "    <tr>\n",
       "      <th>5</th>\n",
       "      <td>gradient_boost_strat2</td>\n",
       "      <td>{'boosting_type': 'gbdt', 'class_weight': None...</td>\n",
       "      <td>0.021832</td>\n",
       "      <td>1.174899</td>\n",
       "      <td>0.052000</td>\n",
       "      <td>1.524780</td>\n",
       "      <td>0.200711</td>\n",
       "    </tr>\n",
       "    <tr>\n",
       "      <th>6</th>\n",
       "      <td>voting_classifier_strat1</td>\n",
       "      <td>{'estimators': [('rf', RandomForestClassifier(...</td>\n",
       "      <td>0.169755</td>\n",
       "      <td>1.211199</td>\n",
       "      <td>0.177102</td>\n",
       "      <td>1.130995</td>\n",
       "      <td>0.957318</td>\n",
       "    </tr>\n",
       "  </tbody>\n",
       "</table>\n",
       "</div>"
      ],
      "text/plain": [
       "                 model_type  \\\n",
       "0      random_forest_strat1   \n",
       "1      random_forest_strat2   \n",
       "2          ada_boost_strat1   \n",
       "3          ada_boost_strat2   \n",
       "4     gradient_boost_strat1   \n",
       "5     gradient_boost_strat2   \n",
       "6  voting_classifier_strat1   \n",
       "\n",
       "                                    hyper_parameters  max_drawdown  \\\n",
       "0  {'bootstrap': True, 'class_weight': None, 'cri...      0.406891   \n",
       "1  {'bootstrap': True, 'class_weight': None, 'cri...      0.071141   \n",
       "2  {'algorithm': 'SAMME.R', 'base_estimator__clas...      0.192115   \n",
       "3  {'algorithm': 'SAMME.R', 'base_estimator__clas...      0.040456   \n",
       "4  {'boosting_type': 'gbdt', 'class_weight': None...      0.049563   \n",
       "5  {'boosting_type': 'gbdt', 'class_weight': None...      0.021832   \n",
       "6  {'estimators': [('rf', RandomForestClassifier(...      0.169755   \n",
       "\n",
       "   sharpe_ratio     alpha  information_ratio  returns_sd  \n",
       "0      0.886202  0.168042           0.733543    1.106498  \n",
       "1      0.819332  0.043336           0.797313    0.223610  \n",
       "2      1.172459  0.155250           1.094747    0.818302  \n",
       "3      1.073291  0.049262           1.239814    0.204080  \n",
       "4      1.469581  0.155672           1.420951    0.805261  \n",
       "5      1.174899  0.052000           1.524780    0.200711  \n",
       "6      1.211199  0.177102           1.130995    0.957318  "
      ]
     },
     "metadata": {},
     "output_type": "display_data"
    }
   ],
   "source": [
    "display(results)"
   ]
  },
  {
   "cell_type": "markdown",
   "metadata": {},
   "source": [
    "# Predicting using VotingClassifier"
   ]
  },
  {
   "cell_type": "markdown",
   "metadata": {},
   "source": [
    "Pick a quarter from the period 2000-2018 and for each trading day in the quarter period\n",
    "(i.e. the day after an earnings release) compute the prediction from the Voting Classifier\n",
    "for each stock (with market cap > 1B) in the data set which can be traded on this date.\n",
    "Here we need the symbols and the earnings dates, which are in the data set (the ticker\n",
    "and date columns are dropped when we make the training DataFrames). Compute the list of all trades predicted by the model."
   ]
  },
  {
   "cell_type": "code",
   "execution_count": 182,
   "metadata": {},
   "outputs": [],
   "source": [
    "df_quarter_to_predict = data.loc['2013-04-01':'2013-07-01']"
   ]
  },
  {
   "cell_type": "code",
   "execution_count": 183,
   "metadata": {},
   "outputs": [
    {
     "name": "stderr",
     "output_type": "stream",
     "text": [
      "C:\\Users\\eddie\\Anaconda3\\lib\\site-packages\\ipykernel_launcher.py:8: SettingWithCopyWarning: \n",
      "A value is trying to be set on a copy of a slice from a DataFrame.\n",
      "Try using .loc[row_indexer,col_indexer] = value instead\n",
      "\n",
      "See the caveats in the documentation: http://pandas.pydata.org/pandas-docs/stable/indexing.html#indexing-view-versus-copy\n",
      "  \n"
     ]
    },
    {
     "name": "stdout",
     "output_type": "stream",
     "text": [
      "Counter({1: 914, -1: 835, 0: 1})\n",
      "List of trading predictions, where 1 is long and -1 is short\n"
     ]
    },
    {
     "data": {
      "text/html": [
       "<div>\n",
       "<style scoped>\n",
       "    .dataframe tbody tr th:only-of-type {\n",
       "        vertical-align: middle;\n",
       "    }\n",
       "\n",
       "    .dataframe tbody tr th {\n",
       "        vertical-align: top;\n",
       "    }\n",
       "\n",
       "    .dataframe thead th {\n",
       "        text-align: right;\n",
       "    }\n",
       "</style>\n",
       "<table border=\"1\" class=\"dataframe\">\n",
       "  <thead>\n",
       "    <tr style=\"text-align: right;\">\n",
       "      <th></th>\n",
       "      <th>ticker</th>\n",
       "      <th>trading_pred</th>\n",
       "    </tr>\n",
       "    <tr>\n",
       "      <th>date</th>\n",
       "      <th></th>\n",
       "      <th></th>\n",
       "    </tr>\n",
       "  </thead>\n",
       "  <tbody>\n",
       "    <tr>\n",
       "      <th>2013-04-01</th>\n",
       "      <td>KYAK</td>\n",
       "      <td>1</td>\n",
       "    </tr>\n",
       "    <tr>\n",
       "      <th>2013-04-02</th>\n",
       "      <td>ACH</td>\n",
       "      <td>-1</td>\n",
       "    </tr>\n",
       "    <tr>\n",
       "      <th>2013-04-03</th>\n",
       "      <td>GPN</td>\n",
       "      <td>-1</td>\n",
       "    </tr>\n",
       "    <tr>\n",
       "      <th>2013-04-03</th>\n",
       "      <td>MKC</td>\n",
       "      <td>1</td>\n",
       "    </tr>\n",
       "    <tr>\n",
       "      <th>2013-04-04</th>\n",
       "      <td>AYI</td>\n",
       "      <td>1</td>\n",
       "    </tr>\n",
       "    <tr>\n",
       "      <th>2013-04-04</th>\n",
       "      <td>CAG</td>\n",
       "      <td>1</td>\n",
       "    </tr>\n",
       "    <tr>\n",
       "      <th>2013-04-04</th>\n",
       "      <td>CONN</td>\n",
       "      <td>1</td>\n",
       "    </tr>\n",
       "    <tr>\n",
       "      <th>2013-04-04</th>\n",
       "      <td>DDC</td>\n",
       "      <td>-1</td>\n",
       "    </tr>\n",
       "    <tr>\n",
       "      <th>2013-04-04</th>\n",
       "      <td>JOSB</td>\n",
       "      <td>-1</td>\n",
       "    </tr>\n",
       "    <tr>\n",
       "      <th>2013-04-04</th>\n",
       "      <td>MON</td>\n",
       "      <td>1</td>\n",
       "    </tr>\n",
       "    <tr>\n",
       "      <th>2013-04-05</th>\n",
       "      <td>CIG</td>\n",
       "      <td>-1</td>\n",
       "    </tr>\n",
       "    <tr>\n",
       "      <th>2013-04-05</th>\n",
       "      <td>ISCA</td>\n",
       "      <td>-1</td>\n",
       "    </tr>\n",
       "    <tr>\n",
       "      <th>2013-04-05</th>\n",
       "      <td>RPM</td>\n",
       "      <td>1</td>\n",
       "    </tr>\n",
       "    <tr>\n",
       "      <th>2013-04-09</th>\n",
       "      <td>AZZ</td>\n",
       "      <td>-1</td>\n",
       "    </tr>\n",
       "    <tr>\n",
       "      <th>2013-04-10</th>\n",
       "      <td>ADTN</td>\n",
       "      <td>1</td>\n",
       "    </tr>\n",
       "    <tr>\n",
       "      <th>2013-04-10</th>\n",
       "      <td>HCSG</td>\n",
       "      <td>1</td>\n",
       "    </tr>\n",
       "    <tr>\n",
       "      <th>2013-04-10</th>\n",
       "      <td>PSMT</td>\n",
       "      <td>1</td>\n",
       "    </tr>\n",
       "    <tr>\n",
       "      <th>2013-04-11</th>\n",
       "      <td>BBBY</td>\n",
       "      <td>1</td>\n",
       "    </tr>\n",
       "    <tr>\n",
       "      <th>2013-04-11</th>\n",
       "      <td>FAST</td>\n",
       "      <td>-1</td>\n",
       "    </tr>\n",
       "    <tr>\n",
       "      <th>2013-04-11</th>\n",
       "      <td>FDO</td>\n",
       "      <td>-1</td>\n",
       "    </tr>\n",
       "    <tr>\n",
       "      <th>2013-04-11</th>\n",
       "      <td>KMX</td>\n",
       "      <td>1</td>\n",
       "    </tr>\n",
       "    <tr>\n",
       "      <th>2013-04-11</th>\n",
       "      <td>MSM</td>\n",
       "      <td>1</td>\n",
       "    </tr>\n",
       "    <tr>\n",
       "      <th>2013-04-11</th>\n",
       "      <td>PGR</td>\n",
       "      <td>1</td>\n",
       "    </tr>\n",
       "    <tr>\n",
       "      <th>2013-04-11</th>\n",
       "      <td>STZ</td>\n",
       "      <td>1</td>\n",
       "    </tr>\n",
       "    <tr>\n",
       "      <th>2013-04-12</th>\n",
       "      <td>CBSH</td>\n",
       "      <td>1</td>\n",
       "    </tr>\n",
       "    <tr>\n",
       "      <th>2013-04-12</th>\n",
       "      <td>IGTE</td>\n",
       "      <td>1</td>\n",
       "    </tr>\n",
       "    <tr>\n",
       "      <th>2013-04-12</th>\n",
       "      <td>JBHT</td>\n",
       "      <td>-1</td>\n",
       "    </tr>\n",
       "    <tr>\n",
       "      <th>2013-04-12</th>\n",
       "      <td>PIR</td>\n",
       "      <td>-1</td>\n",
       "    </tr>\n",
       "    <tr>\n",
       "      <th>2013-04-12</th>\n",
       "      <td>RAD</td>\n",
       "      <td>-1</td>\n",
       "    </tr>\n",
       "    <tr>\n",
       "      <th>2013-04-15</th>\n",
       "      <td>INFY</td>\n",
       "      <td>1</td>\n",
       "    </tr>\n",
       "    <tr>\n",
       "      <th>...</th>\n",
       "      <td>...</td>\n",
       "      <td>...</td>\n",
       "    </tr>\n",
       "    <tr>\n",
       "      <th>2013-06-21</th>\n",
       "      <td>ORCL</td>\n",
       "      <td>-1</td>\n",
       "    </tr>\n",
       "    <tr>\n",
       "      <th>2013-06-21</th>\n",
       "      <td>PIR</td>\n",
       "      <td>1</td>\n",
       "    </tr>\n",
       "    <tr>\n",
       "      <th>2013-06-21</th>\n",
       "      <td>RAD</td>\n",
       "      <td>1</td>\n",
       "    </tr>\n",
       "    <tr>\n",
       "      <th>2013-06-21</th>\n",
       "      <td>TIBX</td>\n",
       "      <td>1</td>\n",
       "    </tr>\n",
       "    <tr>\n",
       "      <th>2013-06-24</th>\n",
       "      <td>DRI</td>\n",
       "      <td>1</td>\n",
       "    </tr>\n",
       "    <tr>\n",
       "      <th>2013-06-24</th>\n",
       "      <td>KMX</td>\n",
       "      <td>1</td>\n",
       "    </tr>\n",
       "    <tr>\n",
       "      <th>2013-06-26</th>\n",
       "      <td>APOL</td>\n",
       "      <td>1</td>\n",
       "    </tr>\n",
       "    <tr>\n",
       "      <th>2013-06-26</th>\n",
       "      <td>BKS</td>\n",
       "      <td>1</td>\n",
       "    </tr>\n",
       "    <tr>\n",
       "      <th>2013-06-26</th>\n",
       "      <td>CCL</td>\n",
       "      <td>1</td>\n",
       "    </tr>\n",
       "    <tr>\n",
       "      <th>2013-06-26</th>\n",
       "      <td>CIM</td>\n",
       "      <td>1</td>\n",
       "    </tr>\n",
       "    <tr>\n",
       "      <th>2013-06-26</th>\n",
       "      <td>LEN</td>\n",
       "      <td>1</td>\n",
       "    </tr>\n",
       "    <tr>\n",
       "      <th>2013-06-26</th>\n",
       "      <td>SNX</td>\n",
       "      <td>1</td>\n",
       "    </tr>\n",
       "    <tr>\n",
       "      <th>2013-06-27</th>\n",
       "      <td>BBBY</td>\n",
       "      <td>-1</td>\n",
       "    </tr>\n",
       "    <tr>\n",
       "      <th>2013-06-27</th>\n",
       "      <td>FUL</td>\n",
       "      <td>-1</td>\n",
       "    </tr>\n",
       "    <tr>\n",
       "      <th>2013-06-27</th>\n",
       "      <td>GIS</td>\n",
       "      <td>1</td>\n",
       "    </tr>\n",
       "    <tr>\n",
       "      <th>2013-06-27</th>\n",
       "      <td>LNN</td>\n",
       "      <td>-1</td>\n",
       "    </tr>\n",
       "    <tr>\n",
       "      <th>2013-06-27</th>\n",
       "      <td>MLHR</td>\n",
       "      <td>-1</td>\n",
       "    </tr>\n",
       "    <tr>\n",
       "      <th>2013-06-27</th>\n",
       "      <td>MON</td>\n",
       "      <td>1</td>\n",
       "    </tr>\n",
       "    <tr>\n",
       "      <th>2013-06-27</th>\n",
       "      <td>PAYX</td>\n",
       "      <td>1</td>\n",
       "    </tr>\n",
       "    <tr>\n",
       "      <th>2013-06-27</th>\n",
       "      <td>PRGS</td>\n",
       "      <td>1</td>\n",
       "    </tr>\n",
       "    <tr>\n",
       "      <th>2013-06-27</th>\n",
       "      <td>UNF</td>\n",
       "      <td>-1</td>\n",
       "    </tr>\n",
       "    <tr>\n",
       "      <th>2013-06-28</th>\n",
       "      <td>ACN</td>\n",
       "      <td>-1</td>\n",
       "    </tr>\n",
       "    <tr>\n",
       "      <th>2013-06-28</th>\n",
       "      <td>CAG</td>\n",
       "      <td>1</td>\n",
       "    </tr>\n",
       "    <tr>\n",
       "      <th>2013-06-28</th>\n",
       "      <td>CMC</td>\n",
       "      <td>-1</td>\n",
       "    </tr>\n",
       "    <tr>\n",
       "      <th>2013-06-28</th>\n",
       "      <td>KBH</td>\n",
       "      <td>1</td>\n",
       "    </tr>\n",
       "    <tr>\n",
       "      <th>2013-06-28</th>\n",
       "      <td>MKC</td>\n",
       "      <td>1</td>\n",
       "    </tr>\n",
       "    <tr>\n",
       "      <th>2013-06-28</th>\n",
       "      <td>NKE</td>\n",
       "      <td>1</td>\n",
       "    </tr>\n",
       "    <tr>\n",
       "      <th>2013-06-28</th>\n",
       "      <td>WOR</td>\n",
       "      <td>1</td>\n",
       "    </tr>\n",
       "    <tr>\n",
       "      <th>2013-07-01</th>\n",
       "      <td>AZZ</td>\n",
       "      <td>1</td>\n",
       "    </tr>\n",
       "    <tr>\n",
       "      <th>2013-07-01</th>\n",
       "      <td>FINL</td>\n",
       "      <td>-1</td>\n",
       "    </tr>\n",
       "  </tbody>\n",
       "</table>\n",
       "<p>1750 rows × 2 columns</p>\n",
       "</div>"
      ],
      "text/plain": [
       "           ticker  trading_pred\n",
       "date                           \n",
       "2013-04-01   KYAK             1\n",
       "2013-04-02    ACH            -1\n",
       "2013-04-03    GPN            -1\n",
       "2013-04-03    MKC             1\n",
       "2013-04-04    AYI             1\n",
       "2013-04-04    CAG             1\n",
       "2013-04-04   CONN             1\n",
       "2013-04-04    DDC            -1\n",
       "2013-04-04   JOSB            -1\n",
       "2013-04-04    MON             1\n",
       "2013-04-05    CIG            -1\n",
       "2013-04-05   ISCA            -1\n",
       "2013-04-05    RPM             1\n",
       "2013-04-09    AZZ            -1\n",
       "2013-04-10   ADTN             1\n",
       "2013-04-10   HCSG             1\n",
       "2013-04-10   PSMT             1\n",
       "2013-04-11   BBBY             1\n",
       "2013-04-11   FAST            -1\n",
       "2013-04-11    FDO            -1\n",
       "2013-04-11    KMX             1\n",
       "2013-04-11    MSM             1\n",
       "2013-04-11    PGR             1\n",
       "2013-04-11    STZ             1\n",
       "2013-04-12   CBSH             1\n",
       "2013-04-12   IGTE             1\n",
       "2013-04-12   JBHT            -1\n",
       "2013-04-12    PIR            -1\n",
       "2013-04-12    RAD            -1\n",
       "2013-04-15   INFY             1\n",
       "...           ...           ...\n",
       "2013-06-21   ORCL            -1\n",
       "2013-06-21    PIR             1\n",
       "2013-06-21    RAD             1\n",
       "2013-06-21   TIBX             1\n",
       "2013-06-24    DRI             1\n",
       "2013-06-24    KMX             1\n",
       "2013-06-26   APOL             1\n",
       "2013-06-26    BKS             1\n",
       "2013-06-26    CCL             1\n",
       "2013-06-26    CIM             1\n",
       "2013-06-26    LEN             1\n",
       "2013-06-26    SNX             1\n",
       "2013-06-27   BBBY            -1\n",
       "2013-06-27    FUL            -1\n",
       "2013-06-27    GIS             1\n",
       "2013-06-27    LNN            -1\n",
       "2013-06-27   MLHR            -1\n",
       "2013-06-27    MON             1\n",
       "2013-06-27   PAYX             1\n",
       "2013-06-27   PRGS             1\n",
       "2013-06-27    UNF            -1\n",
       "2013-06-28    ACN            -1\n",
       "2013-06-28    CAG             1\n",
       "2013-06-28    CMC            -1\n",
       "2013-06-28    KBH             1\n",
       "2013-06-28    MKC             1\n",
       "2013-06-28    NKE             1\n",
       "2013-06-28    WOR             1\n",
       "2013-07-01    AZZ             1\n",
       "2013-07-01   FINL            -1\n",
       "\n",
       "[1750 rows x 2 columns]"
      ]
     },
     "execution_count": 183,
     "metadata": {},
     "output_type": "execute_result"
    }
   ],
   "source": [
    "test_input_data = df_quarter_to_predict.reset_index().drop(['ticker','date',\n",
    "                                   'next_period_return',\n",
    "                                   'spy_next_period_return',\n",
    "                                   'rel_performance','pred_rel_return',\n",
    "                                  'return', 'cum_ret', 'spy_cum_ret'],axis=1)\n",
    "\n",
    "trading_pred = voting_clf.predict(test_input_data[top10features])                \n",
    "df_quarter_to_predict['trading_pred'] = trading_pred\n",
    "\n",
    "print(Counter(trading_pred))\n",
    "print(\"List of trading predictions, where 1 is long and -1 is short\")\n",
    "df_quarter_to_predict[['ticker', 'trading_pred']]"
   ]
  },
  {
   "cell_type": "code",
   "execution_count": 185,
   "metadata": {},
   "outputs": [
    {
     "data": {
      "text/plain": [
       "<matplotlib.legend.Legend at 0x21df395b898>"
      ]
     },
     "execution_count": 185,
     "metadata": {},
     "output_type": "execute_result"
    },
    {
     "data": {
      "image/png": "[encoded data removed]",
      "text/plain": [
       "<Figure size 432x288 with 1 Axes>"
      ]
     },
     "metadata": {
      "needs_background": "light"
     },
     "output_type": "display_data"
    }
   ],
   "source": [
    "plt.plot(returns_spy_strategy_voting)\n",
    "plt.legend(['SPY','Voting Classifier Strategy 1'])"
   ]
  },
  {
   "cell_type": "code",
   "execution_count": 187,
   "metadata": {},
   "outputs": [
    {
     "name": "stdout",
     "output_type": "stream",
     "text": [
      "Total PnL of Strategy Style 1:  4.03\n",
      "Sharpe Ratio: 1.21\n",
      "Information Ratio: 1.13\n",
      "Alpha: 0.18\n",
      "Max drawdown: 0.17\n"
     ]
    }
   ],
   "source": [
    "voting_results = results.loc[results['model_type'] == 'voting_classifier_strat1']\n",
    "print(\"Total PnL of Strategy Style 1: \", round(returns_spy_strategy_voting['strategy'][-1],2))\n",
    "print(\"Sharpe Ratio:\",  round(voting_results['sharpe_ratio'].values[0],2))\n",
    "print(\"Information Ratio:\", round(voting_results['information_ratio'].values[0],2))\n",
    "print(\"Alpha:\", round(voting_results['alpha'].values[0],2))\n",
    "print(\"Max drawdown:\", round(voting_results['max_drawdown'].values[0],2))"
   ]
  },
  {
   "cell_type": "code",
   "execution_count": 188,
   "metadata": {},
   "outputs": [],
   "source": [
    "strategy_returns_style2 = calc_strategy_returns_style2(training_data, training_labels, test_frames, test_data, top10features, voting_clf)"
   ]
  },
  {
   "cell_type": "code",
   "execution_count": 189,
   "metadata": {},
   "outputs": [],
   "source": [
    "returns_spy_style2 = SPY.copy()"
   ]
  },
  {
   "cell_type": "code",
   "execution_count": 190,
   "metadata": {},
   "outputs": [],
   "source": [
    "returns_spy_style2['strategy'] = strategy_returns_style2\n",
    "results_graph_data['VotingClassifierStrat2'] = strategy_returns_style2"
   ]
  },
  {
   "cell_type": "code",
   "execution_count": 191,
   "metadata": {},
   "outputs": [],
   "source": [
    "voting_returns_sd2 = np.std(returns_spy_style2['strategy'])"
   ]
  },
  {
   "cell_type": "code",
   "execution_count": 192,
   "metadata": {},
   "outputs": [
    {
     "name": "stderr",
     "output_type": "stream",
     "text": [
      "C:\\Users\\eddie\\Anaconda3\\lib\\site-packages\\numpy\\core\\fromnumeric.py:56: FutureWarning: \n",
      "The current behaviour of 'Series.argmax' is deprecated, use 'idxmax'\n",
      "instead.\n",
      "The behavior of 'argmax' will be corrected to return the positional\n",
      "maximum in the future. For now, use 'series.values.argmax' or\n",
      "'np.argmax(np.array(values))' to get the position of the maximum\n",
      "row.\n",
      "  return getattr(obj, method)(*args, **kwds)\n"
     ]
    }
   ],
   "source": [
    "max_dd_returns_style2 = calc_max_drawdown(returns_spy_style2['strategy'])"
   ]
  },
  {
   "cell_type": "code",
   "execution_count": 194,
   "metadata": {},
   "outputs": [],
   "source": [
    "sharpe_ratio_style2 = calc_sharpe_ratio(returns_spy_style2[['spy_cum_ret','strategy']])"
   ]
  },
  {
   "cell_type": "code",
   "execution_count": 195,
   "metadata": {},
   "outputs": [],
   "source": [
    "strategy_ret_normalized_style2 = (returns_spy_style2['strategy'] - 1).diff().values[1:]\n",
    "spy_ret_normalized_style2 = (returns_spy_style2['spy_cum_ret'] - 1).diff().values[1:]\n",
    "information_ratio_style2 = calc_information_ratio(strategy_ret_normalized_style2, spy_ret_normalized_style2)\n",
    "\n",
    "alpha_style2 = calc_alpha(strategy_ret_normalized_style2, spy_ret_normalized_style2)"
   ]
  },
  {
   "cell_type": "code",
   "execution_count": 196,
   "metadata": {},
   "outputs": [],
   "source": [
    "results = results.append({\"model_type\":\"voting_classifier_strat2\", \"hyper_parameters\":voting_clf.get_params(), \"max_drawdown\":max_dd_returns_style2, \n",
    "                \"sharpe_ratio\":sharpe_ratio_style2, \"alpha\":alpha_style2, \"information_ratio\":information_ratio_style2,\n",
    "                         \"returns_sd\": voting_returns_sd2}, ignore_index=True)"
   ]
  },
  {
   "cell_type": "code",
   "execution_count": 197,
   "metadata": {},
   "outputs": [
    {
     "data": {
      "text/html": [
       "<div>\n",
       "<style scoped>\n",
       "    .dataframe tbody tr th:only-of-type {\n",
       "        vertical-align: middle;\n",
       "    }\n",
       "\n",
       "    .dataframe tbody tr th {\n",
       "        vertical-align: top;\n",
       "    }\n",
       "\n",
       "    .dataframe thead th {\n",
       "        text-align: right;\n",
       "    }\n",
       "</style>\n",
       "<table border=\"1\" class=\"dataframe\">\n",
       "  <thead>\n",
       "    <tr style=\"text-align: right;\">\n",
       "      <th></th>\n",
       "      <th>model_type</th>\n",
       "      <th>hyper_parameters</th>\n",
       "      <th>max_drawdown</th>\n",
       "      <th>sharpe_ratio</th>\n",
       "      <th>alpha</th>\n",
       "      <th>information_ratio</th>\n",
       "      <th>returns_sd</th>\n",
       "    </tr>\n",
       "  </thead>\n",
       "  <tbody>\n",
       "    <tr>\n",
       "      <th>0</th>\n",
       "      <td>random_forest_strat1</td>\n",
       "      <td>{'bootstrap': True, 'class_weight': None, 'cri...</td>\n",
       "      <td>0.406891</td>\n",
       "      <td>0.886202</td>\n",
       "      <td>0.168042</td>\n",
       "      <td>0.733543</td>\n",
       "      <td>1.106498</td>\n",
       "    </tr>\n",
       "    <tr>\n",
       "      <th>1</th>\n",
       "      <td>random_forest_strat2</td>\n",
       "      <td>{'bootstrap': True, 'class_weight': None, 'cri...</td>\n",
       "      <td>0.071141</td>\n",
       "      <td>0.819332</td>\n",
       "      <td>0.043336</td>\n",
       "      <td>0.797313</td>\n",
       "      <td>0.223610</td>\n",
       "    </tr>\n",
       "    <tr>\n",
       "      <th>2</th>\n",
       "      <td>ada_boost_strat1</td>\n",
       "      <td>{'algorithm': 'SAMME.R', 'base_estimator__clas...</td>\n",
       "      <td>0.192115</td>\n",
       "      <td>1.172459</td>\n",
       "      <td>0.155250</td>\n",
       "      <td>1.094747</td>\n",
       "      <td>0.818302</td>\n",
       "    </tr>\n",
       "    <tr>\n",
       "      <th>3</th>\n",
       "      <td>ada_boost_strat2</td>\n",
       "      <td>{'algorithm': 'SAMME.R', 'base_estimator__clas...</td>\n",
       "      <td>0.040456</td>\n",
       "      <td>1.073291</td>\n",
       "      <td>0.049262</td>\n",
       "      <td>1.239814</td>\n",
       "      <td>0.204080</td>\n",
       "    </tr>\n",
       "    <tr>\n",
       "      <th>4</th>\n",
       "      <td>gradient_boost_strat1</td>\n",
       "      <td>{'boosting_type': 'gbdt', 'class_weight': None...</td>\n",
       "      <td>0.049563</td>\n",
       "      <td>1.469581</td>\n",
       "      <td>0.155672</td>\n",
       "      <td>1.420951</td>\n",
       "      <td>0.805261</td>\n",
       "    </tr>\n",
       "    <tr>\n",
       "      <th>5</th>\n",
       "      <td>gradient_boost_strat2</td>\n",
       "      <td>{'boosting_type': 'gbdt', 'class_weight': None...</td>\n",
       "      <td>0.021832</td>\n",
       "      <td>1.174899</td>\n",
       "      <td>0.052000</td>\n",
       "      <td>1.524780</td>\n",
       "      <td>0.200711</td>\n",
       "    </tr>\n",
       "    <tr>\n",
       "      <th>6</th>\n",
       "      <td>voting_classifier_strat1</td>\n",
       "      <td>{'estimators': [('rf', RandomForestClassifier(...</td>\n",
       "      <td>0.169755</td>\n",
       "      <td>1.211199</td>\n",
       "      <td>0.177102</td>\n",
       "      <td>1.130995</td>\n",
       "      <td>0.957318</td>\n",
       "    </tr>\n",
       "    <tr>\n",
       "      <th>7</th>\n",
       "      <td>voting_classifier_strat2</td>\n",
       "      <td>{'estimators': [('rf', RandomForestClassifier(...</td>\n",
       "      <td>0.081612</td>\n",
       "      <td>0.439447</td>\n",
       "      <td>0.010484</td>\n",
       "      <td>0.417524</td>\n",
       "      <td>0.195239</td>\n",
       "    </tr>\n",
       "  </tbody>\n",
       "</table>\n",
       "</div>"
      ],
      "text/plain": [
       "                 model_type  \\\n",
       "0      random_forest_strat1   \n",
       "1      random_forest_strat2   \n",
       "2          ada_boost_strat1   \n",
       "3          ada_boost_strat2   \n",
       "4     gradient_boost_strat1   \n",
       "5     gradient_boost_strat2   \n",
       "6  voting_classifier_strat1   \n",
       "7  voting_classifier_strat2   \n",
       "\n",
       "                                    hyper_parameters  max_drawdown  \\\n",
       "0  {'bootstrap': True, 'class_weight': None, 'cri...      0.406891   \n",
       "1  {'bootstrap': True, 'class_weight': None, 'cri...      0.071141   \n",
       "2  {'algorithm': 'SAMME.R', 'base_estimator__clas...      0.192115   \n",
       "3  {'algorithm': 'SAMME.R', 'base_estimator__clas...      0.040456   \n",
       "4  {'boosting_type': 'gbdt', 'class_weight': None...      0.049563   \n",
       "5  {'boosting_type': 'gbdt', 'class_weight': None...      0.021832   \n",
       "6  {'estimators': [('rf', RandomForestClassifier(...      0.169755   \n",
       "7  {'estimators': [('rf', RandomForestClassifier(...      0.081612   \n",
       "\n",
       "   sharpe_ratio     alpha  information_ratio  returns_sd  \n",
       "0      0.886202  0.168042           0.733543    1.106498  \n",
       "1      0.819332  0.043336           0.797313    0.223610  \n",
       "2      1.172459  0.155250           1.094747    0.818302  \n",
       "3      1.073291  0.049262           1.239814    0.204080  \n",
       "4      1.469581  0.155672           1.420951    0.805261  \n",
       "5      1.174899  0.052000           1.524780    0.200711  \n",
       "6      1.211199  0.177102           1.130995    0.957318  \n",
       "7      0.439447  0.010484           0.417524    0.195239  "
      ]
     },
     "metadata": {},
     "output_type": "display_data"
    }
   ],
   "source": [
    "display(results)"
   ]
  },
  {
   "cell_type": "code",
   "execution_count": 198,
   "metadata": {},
   "outputs": [
    {
     "data": {
      "text/plain": [
       "<matplotlib.legend.Legend at 0x21df398a780>"
      ]
     },
     "execution_count": 198,
     "metadata": {},
     "output_type": "execute_result"
    },
    {
     "data": {
      "image/png": "[encoded data removed]",
      "text/plain": [
       "<Figure size 432x288 with 1 Axes>"
      ]
     },
     "metadata": {
      "needs_background": "light"
     },
     "output_type": "display_data"
    }
   ],
   "source": [
    "plt.plot(returns_spy_style2)\n",
    "plt.legend(['SPY', 'Voting Classifier Strategy 2'])"
   ]
  },
  {
   "cell_type": "code",
   "execution_count": 199,
   "metadata": {},
   "outputs": [
    {
     "name": "stdout",
     "output_type": "stream",
     "text": [
      "Total PnL of Strategy Style 2:  1.67\n",
      "Sharpe Ratio: 0.44\n",
      "Information Ratio: 0.42\n",
      "Alpha: 0.01\n",
      "Max drawdown: 0.08\n"
     ]
    }
   ],
   "source": [
    "print(\"Total PnL of Strategy Style 2: \", round(strategy_returns_style2[-1],2))\n",
    "print(\"Sharpe Ratio:\", round(sharpe_ratio_style2,2))\n",
    "print(\"Information Ratio:\", round(information_ratio_style2,2))\n",
    "print(\"Alpha:\", round(alpha_style2,2))\n",
    "print(\"Max drawdown:\", round(max_dd_returns_style2,2))"
   ]
  },
  {
   "cell_type": "markdown",
   "metadata": {},
   "source": [
    "# Final Results"
   ]
  },
  {
   "cell_type": "code",
   "execution_count": 203,
   "metadata": {},
   "outputs": [
    {
     "data": {
      "text/html": [
       "<div>\n",
       "<style scoped>\n",
       "    .dataframe tbody tr th:only-of-type {\n",
       "        vertical-align: middle;\n",
       "    }\n",
       "\n",
       "    .dataframe tbody tr th {\n",
       "        vertical-align: top;\n",
       "    }\n",
       "\n",
       "    .dataframe thead th {\n",
       "        text-align: right;\n",
       "    }\n",
       "</style>\n",
       "<table border=\"1\" class=\"dataframe\">\n",
       "  <thead>\n",
       "    <tr style=\"text-align: right;\">\n",
       "      <th></th>\n",
       "      <th>model_type</th>\n",
       "      <th>hyper_parameters</th>\n",
       "      <th>max_drawdown</th>\n",
       "      <th>sharpe_ratio</th>\n",
       "      <th>alpha</th>\n",
       "      <th>information_ratio</th>\n",
       "      <th>returns_sd</th>\n",
       "    </tr>\n",
       "  </thead>\n",
       "  <tbody>\n",
       "    <tr>\n",
       "      <th>4</th>\n",
       "      <td>gradient_boost_strat1</td>\n",
       "      <td>{'boosting_type': 'gbdt', 'class_weight': None...</td>\n",
       "      <td>0.049563</td>\n",
       "      <td>1.469581</td>\n",
       "      <td>0.155672</td>\n",
       "      <td>1.420951</td>\n",
       "      <td>0.805261</td>\n",
       "    </tr>\n",
       "    <tr>\n",
       "      <th>6</th>\n",
       "      <td>voting_classifier_strat1</td>\n",
       "      <td>{'estimators': [('rf', RandomForestClassifier(...</td>\n",
       "      <td>0.169755</td>\n",
       "      <td>1.211199</td>\n",
       "      <td>0.177102</td>\n",
       "      <td>1.130995</td>\n",
       "      <td>0.957318</td>\n",
       "    </tr>\n",
       "    <tr>\n",
       "      <th>5</th>\n",
       "      <td>gradient_boost_strat2</td>\n",
       "      <td>{'boosting_type': 'gbdt', 'class_weight': None...</td>\n",
       "      <td>0.021832</td>\n",
       "      <td>1.174899</td>\n",
       "      <td>0.052000</td>\n",
       "      <td>1.524780</td>\n",
       "      <td>0.200711</td>\n",
       "    </tr>\n",
       "    <tr>\n",
       "      <th>2</th>\n",
       "      <td>ada_boost_strat1</td>\n",
       "      <td>{'algorithm': 'SAMME.R', 'base_estimator__clas...</td>\n",
       "      <td>0.192115</td>\n",
       "      <td>1.172459</td>\n",
       "      <td>0.155250</td>\n",
       "      <td>1.094747</td>\n",
       "      <td>0.818302</td>\n",
       "    </tr>\n",
       "    <tr>\n",
       "      <th>3</th>\n",
       "      <td>ada_boost_strat2</td>\n",
       "      <td>{'algorithm': 'SAMME.R', 'base_estimator__clas...</td>\n",
       "      <td>0.040456</td>\n",
       "      <td>1.073291</td>\n",
       "      <td>0.049262</td>\n",
       "      <td>1.239814</td>\n",
       "      <td>0.204080</td>\n",
       "    </tr>\n",
       "    <tr>\n",
       "      <th>0</th>\n",
       "      <td>random_forest_strat1</td>\n",
       "      <td>{'bootstrap': True, 'class_weight': None, 'cri...</td>\n",
       "      <td>0.406891</td>\n",
       "      <td>0.886202</td>\n",
       "      <td>0.168042</td>\n",
       "      <td>0.733543</td>\n",
       "      <td>1.106498</td>\n",
       "    </tr>\n",
       "    <tr>\n",
       "      <th>1</th>\n",
       "      <td>random_forest_strat2</td>\n",
       "      <td>{'bootstrap': True, 'class_weight': None, 'cri...</td>\n",
       "      <td>0.071141</td>\n",
       "      <td>0.819332</td>\n",
       "      <td>0.043336</td>\n",
       "      <td>0.797313</td>\n",
       "      <td>0.223610</td>\n",
       "    </tr>\n",
       "    <tr>\n",
       "      <th>7</th>\n",
       "      <td>voting_classifier_strat2</td>\n",
       "      <td>{'estimators': [('rf', RandomForestClassifier(...</td>\n",
       "      <td>0.081612</td>\n",
       "      <td>0.439447</td>\n",
       "      <td>0.010484</td>\n",
       "      <td>0.417524</td>\n",
       "      <td>0.195239</td>\n",
       "    </tr>\n",
       "  </tbody>\n",
       "</table>\n",
       "</div>"
      ],
      "text/plain": [
       "                 model_type  \\\n",
       "4     gradient_boost_strat1   \n",
       "6  voting_classifier_strat1   \n",
       "5     gradient_boost_strat2   \n",
       "2          ada_boost_strat1   \n",
       "3          ada_boost_strat2   \n",
       "0      random_forest_strat1   \n",
       "1      random_forest_strat2   \n",
       "7  voting_classifier_strat2   \n",
       "\n",
       "                                    hyper_parameters  max_drawdown  \\\n",
       "4  {'boosting_type': 'gbdt', 'class_weight': None...      0.049563   \n",
       "6  {'estimators': [('rf', RandomForestClassifier(...      0.169755   \n",
       "5  {'boosting_type': 'gbdt', 'class_weight': None...      0.021832   \n",
       "2  {'algorithm': 'SAMME.R', 'base_estimator__clas...      0.192115   \n",
       "3  {'algorithm': 'SAMME.R', 'base_estimator__clas...      0.040456   \n",
       "0  {'bootstrap': True, 'class_weight': None, 'cri...      0.406891   \n",
       "1  {'bootstrap': True, 'class_weight': None, 'cri...      0.071141   \n",
       "7  {'estimators': [('rf', RandomForestClassifier(...      0.081612   \n",
       "\n",
       "   sharpe_ratio     alpha  information_ratio  returns_sd  \n",
       "4      1.469581  0.155672           1.420951    0.805261  \n",
       "6      1.211199  0.177102           1.130995    0.957318  \n",
       "5      1.174899  0.052000           1.524780    0.200711  \n",
       "2      1.172459  0.155250           1.094747    0.818302  \n",
       "3      1.073291  0.049262           1.239814    0.204080  \n",
       "0      0.886202  0.168042           0.733543    1.106498  \n",
       "1      0.819332  0.043336           0.797313    0.223610  \n",
       "7      0.439447  0.010484           0.417524    0.195239  "
      ]
     },
     "metadata": {},
     "output_type": "display_data"
    }
   ],
   "source": [
    "display(results.sort_values(by = ['sharpe_ratio'], ascending = False))"
   ]
  },
  {
   "cell_type": "code",
   "execution_count": 208,
   "metadata": {},
   "outputs": [
    {
     "data": {
      "image/png": "[encoded data removed]",
      "text/plain": [
       "<Figure size 1440x720 with 1 Axes>"
      ]
     },
     "metadata": {
      "needs_background": "light"
     },
     "output_type": "display_data"
    }
   ],
   "source": [
    "plt.plot(results_graph_data)\n",
    "plt.legend([\"SPY\", \n",
    "             \"RandomForest_Strat1\", \"RandomForest_Strat2\", \n",
    "             \"AdaBoost_Strat1\",\"AdaBoost_Strat2\",\n",
    "             \"GB_Strat1\",\"GB_Strat2\",\n",
    "             \"Voting_Strat1\", \"Voting_Strat2\"])\n",
    "plt.rcParams[\"figure.figsize\"] = (15,10)"
   ]
  },
  {
   "cell_type": "markdown",
   "metadata": {},
   "source": [
    "As we can see in our final results, each strategy has a varying amount of risk. Namely all models using trading strategy 1 have a huge drawdown near 2009, whereas trading strategy 2 in general maintains a much safer drawdown overall. In the long run however, all trading strategies 2 underperform versus the S&P. Overall, the strategy with the highest Sharpe ratio and relatively lowest max dradown is Gradient Boosted Trees w/ Strategy 1. \n",
    "\n",
    "There's a fair amount of correlation throughout all the strategies because of the large assumption we're making that the optimal set of features are the same static top 10 features throughout the entire backtest. A better but more computationally expensive backtest would involve calibrating a different set of optimal features for each quarter throughout the backtest, as well as recalibrating the hyperparameters each quarter.\n",
    "\n",
    "Note that none of these strategies take into account execution/transaction costs, market impact or slippage. The backtested metrics are likely to be over-optimistic, and a productionized strategy will likely bring to light other assumptions that could erode our Sharpe ratios."
   ]
  },
  {
   "cell_type": "code",
   "execution_count": null,
   "metadata": {},
   "outputs": [],
   "source": []
  }
 ],
 "metadata": {
  "kernelspec": {
   "display_name": "Python 3",
   "language": "python",
   "name": "python3"
  },
  "language_info": {
   "codemirror_mode": {
    "name": "ipython",
    "version": 3
   },
   "file_extension": ".py",
   "mimetype": "text/x-python",
   "name": "python",
   "nbconvert_exporter": "python",
   "pygments_lexer": "ipython3",
   "version": "3.7.3"
  },
  "latex_envs": {
   "LaTeX_envs_menu_present": true,
   "autoclose": false,
   "autocomplete": true,
   "bibliofile": "biblio.bib",
   "cite_by": "apalike",
   "current_citInitial": 1,
   "eqLabelWithNumbers": true,
   "eqNumInitial": 1,
   "hotkeys": {
    "equation": "Ctrl-E",
    "itemize": "Ctrl-I"
   },
   "labels_anchors": false,
   "latex_user_defs": false,
   "report_style_numbering": false,
   "user_envs_cfg": false
  }
 },
 "nbformat": 4,
 "nbformat_minor": 2
}
